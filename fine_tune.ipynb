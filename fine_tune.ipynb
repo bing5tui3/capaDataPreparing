{
 "cells": [
  {
   "cell_type": "code",
   "execution_count": 1,
   "id": "initial_id",
   "metadata": {
    "collapsed": true,
    "ExecuteTime": {
     "end_time": "2024-04-07T02:09:32.963849Z",
     "start_time": "2024-04-07T02:09:30.233291Z"
    }
   },
   "outputs": [],
   "source": [
    "import os\n",
    "import torch\n",
    "from datasets import load_dataset\n",
    "from transformers import (\n",
    "    AutoModelForCausalLM,\n",
    "    AutoTokenizer,\n",
    "    BitsAndBytesConfig,\n",
    "    TrainingArguments,\n",
    "    pipeline,\n",
    "    logging,\n",
    ")\n",
    "from peft import LoraConfig\n",
    "from trl import SFTTrainer"
   ]
  },
  {
   "cell_type": "code",
   "outputs": [],
   "source": [
    "from accelerate import FullyShardedDataParallelPlugin, Accelerator\n",
    "from torch.distributed.fsdp.fully_sharded_data_parallel import FullOptimStateDictConfig, FullStateDictConfig\n",
    "\n",
    "fsdp_plugin = FullyShardedDataParallelPlugin(\n",
    "    state_dict_config=FullStateDictConfig(offload_to_cpu=True, rank0_only=False),\n",
    "    optim_state_dict_config=FullOptimStateDictConfig(offload_to_cpu=True, rank0_only=False),\n",
    ")\n",
    "\n",
    "accelerator = Accelerator(fsdp_plugin=fsdp_plugin)"
   ],
   "metadata": {
    "collapsed": false,
    "ExecuteTime": {
     "end_time": "2024-04-07T03:30:22.142678Z",
     "start_time": "2024-04-07T03:30:22.135622Z"
    }
   },
   "id": "15e899ac1ccbbd38",
   "execution_count": 39
  },
  {
   "cell_type": "code",
   "outputs": [],
   "source": [
    "os.environ['HF_DATASETS_OFFLINE'] = '1'"
   ],
   "metadata": {
    "collapsed": false,
    "ExecuteTime": {
     "end_time": "2024-04-07T02:10:32.449271Z",
     "start_time": "2024-04-07T02:10:32.446645Z"
    }
   },
   "id": "111bc2f57d0b36a7",
   "execution_count": 2
  },
  {
   "cell_type": "code",
   "outputs": [
    {
     "data": {
      "text/plain": "Generating train split: 0 examples [00:00, ? examples/s]",
      "application/vnd.jupyter.widget-view+json": {
       "version_major": 2,
       "version_minor": 0,
       "model_id": "593541fcec1343f681fe124757208032"
      }
     },
     "metadata": {},
     "output_type": "display_data"
    },
    {
     "data": {
      "text/plain": "Generating test split: 0 examples [00:00, ? examples/s]",
      "application/vnd.jupyter.widget-view+json": {
       "version_major": 2,
       "version_minor": 0,
       "model_id": "4e96326a34884972bf4fbe73dc3f4d11"
      }
     },
     "metadata": {},
     "output_type": "display_data"
    }
   ],
   "source": [
    "base_model = \"D:\\LLM\\models\\Llama-2-7b-hf\"\n",
    "\n",
    "allocation_dataset = load_dataset(\"json\", data_files={\"train\": \"data/train.json\", \"test\": \"data/test.json\"})\n",
    "\n",
    "\n",
    "# allocation_dataset = load_dataset(\"./data\", split=\"train\")"
   ],
   "metadata": {
    "collapsed": false,
    "ExecuteTime": {
     "end_time": "2024-04-07T02:25:34.361763Z",
     "start_time": "2024-04-07T02:25:33.497922Z"
    }
   },
   "id": "c30dc665051db51",
   "execution_count": 17
  },
  {
   "cell_type": "code",
   "outputs": [
    {
     "data": {
      "text/plain": "DatasetDict({\n    train: Dataset({\n        features: ['output', 'instruction', 'input'],\n        num_rows: 10000\n    })\n    test: Dataset({\n        features: ['output', 'instruction', 'input'],\n        num_rows: 200\n    })\n})"
     },
     "execution_count": 18,
     "metadata": {},
     "output_type": "execute_result"
    }
   ],
   "source": [
    "allocation_dataset"
   ],
   "metadata": {
    "collapsed": false,
    "ExecuteTime": {
     "end_time": "2024-04-07T02:25:38.720780Z",
     "start_time": "2024-04-07T02:25:38.717530Z"
    }
   },
   "id": "aba0449140523d95",
   "execution_count": 18
  },
  {
   "cell_type": "code",
   "outputs": [],
   "source": [
    "compute_dtype = getattr(torch, \"float16\")\n",
    "\n",
    "quant_config = BitsAndBytesConfig(\n",
    "    load_in_4bit=True,\n",
    "    bnb_4bit_quant_type=\"nf4\",\n",
    "    bnb_4bit_compute_dtype=compute_dtype,\n",
    "    bnb_4bit_use_double_quant=False,\n",
    ")"
   ],
   "metadata": {
    "collapsed": false,
    "ExecuteTime": {
     "end_time": "2024-04-07T02:52:12.409290Z",
     "start_time": "2024-04-07T02:52:12.406089Z"
    }
   },
   "id": "8d65b0bc16d3be91",
   "execution_count": 19
  },
  {
   "cell_type": "code",
   "outputs": [
    {
     "data": {
      "text/plain": "Loading checkpoint shards:   0%|          | 0/2 [00:00<?, ?it/s]",
      "application/vnd.jupyter.widget-view+json": {
       "version_major": 2,
       "version_minor": 0,
       "model_id": "8386cdbd0c814d22bed35e0451cae418"
      }
     },
     "metadata": {},
     "output_type": "display_data"
    }
   ],
   "source": [
    "model = AutoModelForCausalLM.from_pretrained(\n",
    "    base_model,\n",
    "    quantization_config=quant_config,\n",
    "    device_map={\"\": 0}\n",
    ")\n",
    "model.config.use_cache = False\n",
    "model.config.pretraining_tp = 1"
   ],
   "metadata": {
    "collapsed": false,
    "ExecuteTime": {
     "end_time": "2024-04-07T02:52:54.603988Z",
     "start_time": "2024-04-07T02:52:44.270783Z"
    }
   },
   "id": "d10c6f73b46667aa",
   "execution_count": 20
  },
  {
   "cell_type": "code",
   "outputs": [],
   "source": [
    "tokenizer = AutoTokenizer.from_pretrained(\n",
    "    base_model,\n",
    "    add_eos_token=True,\n",
    "    add_bos_token=True, \n",
    ")"
   ],
   "metadata": {
    "collapsed": false,
    "ExecuteTime": {
     "end_time": "2024-04-07T03:04:37.535865Z",
     "start_time": "2024-04-07T03:04:37.478487Z"
    }
   },
   "id": "2e9384fcf1aae267",
   "execution_count": 24
  },
  {
   "cell_type": "code",
   "outputs": [],
   "source": [
    "def tokenize(prompt):\n",
    "    result = tokenizer(prompt)\n",
    "    result[\"labels\"] = result[\"input_ids\"].copy()\n",
    "    return result"
   ],
   "metadata": {
    "collapsed": false,
    "ExecuteTime": {
     "end_time": "2024-04-07T03:05:28.177132Z",
     "start_time": "2024-04-07T03:05:28.174456Z"
    }
   },
   "id": "726ff332e8dc9971",
   "execution_count": 25
  },
  {
   "cell_type": "code",
   "outputs": [],
   "source": [
    "def generate_and_tokenize_prompt(data_point):\n",
    "    full_prompt =f\"\"\"{data_point[\"instruction\"]}\n",
    "\n",
    "### Source fee:\n",
    "{data_point[\"input\"]}\n",
    "\n",
    "### Target fees:\n",
    "{data_point[\"output\"]}\n",
    "\"\"\"\n",
    "    return tokenize(full_prompt)"
   ],
   "metadata": {
    "collapsed": false,
    "ExecuteTime": {
     "end_time": "2024-04-07T03:09:09.852809Z",
     "start_time": "2024-04-07T03:09:09.850028Z"
    }
   },
   "id": "6917b801b5576ed1",
   "execution_count": 26
  },
  {
   "cell_type": "code",
   "outputs": [
    {
     "data": {
      "text/plain": "Map:   0%|          | 0/200 [00:00<?, ? examples/s]",
      "application/vnd.jupyter.widget-view+json": {
       "version_major": 2,
       "version_minor": 0,
       "model_id": "91e30f3db4724a8393426aa8a6dc3665"
      }
     },
     "metadata": {},
     "output_type": "display_data"
    }
   ],
   "source": [
    "tokenized_train_dataset = allocation_dataset[\"train\"].map(generate_and_tokenize_prompt)\n",
    "tokenized_test_dataset = allocation_dataset[\"test\"].map(generate_and_tokenize_prompt)"
   ],
   "metadata": {
    "collapsed": false,
    "ExecuteTime": {
     "end_time": "2024-04-07T03:14:17.770746Z",
     "start_time": "2024-04-07T03:14:17.597124Z"
    }
   },
   "id": "45874d5f0e284623",
   "execution_count": 30
  },
  {
   "cell_type": "code",
   "outputs": [
    {
     "name": "stdout",
     "output_type": "stream",
     "text": [
      "<s> do allocation for the given fee\n",
      "\n",
      "### Source fee:\n",
      "2-2-6-1-1-6-3-21778.55\n",
      "\n",
      "### Target fees:\n",
      "4-5-1-4-5-5-5-217.79;1-5-5-6-4-1-1-435.57;1-3-1-3-6-4-5-217.79;3-4-2-4-1-2-3-435.57;3-3-5-1-3-4-2-217.79;6-3-4-3-1-4-3-217.79;3-6-1-4-6-6-4-217.79;1-2-2-1-4-2-6-217.79;5-5-4-6-1-6-1-217.79;6-6-1-3-1-5-6-217.79;4-1-5-6-5-2-1-217.79;2-6-6-1-6-2-3-435.57;6-6-6-6-5-6-2-217.79;2-2-6-6-4-6-1-217.79;3-2-4-3-5-4-6-217.79;5-5-2-4-3-3-2-217.79;1-3-3-2-4-4-3-217.79;6-1-3-5-3-5-1-217.79;1-5-4-4-3-1-5-217.79;6-1-4-1-4-5-4-217.79;5-5-1-5-2-5-4-217.79;4-3-3-3-6-1-3-217.79;4-6-5-4-2-6-5-217.79;2-1-6-2-1-5-4-217.79;6-1-4-5-5-4-2-217.79;2-6-6-3-4-5-3-435.57;4-6-1-1-4-6-3-217.79;2-6-1-1-3-6-1-217.79;5-3-1-2-3-4-6-217.79;4-5-6-3-6-4-4-217.79;1-5-5-3-5-5-1-217.79;3-5-3-5-3-4-1-217.79;4-4-5-1-2-3-5-217.79;1-1-5-1-1-3-6-217.79;5-4-2-2-4-4-5-217.79;1-5-3-6-6-4-3-435.57;5-4-4-6-1-1-2-435.57;3-1-1-3-1-5-3-435.57;4-1-3-5-1-6-3-217.79;1-1-6-1-3-6-1-217.79;5-1-5-2-6-2-5-217.79;6-5-6-1-3-4-6-217.79;1-5-1-3-1-1-4-217.79;5-1-3-5-4-2-1-217.79;5-4-5-1-6-4-6-217.79;2-5-1-1-2-6-2-217.79;3-1-4-6-3-1-5-217.79;3-5-1-4-3-4-1-871.14;2-5-5-5-1-5-3-435.57;4-6-4-3-5-2-2-217.79;2-2-2-1-5-3-1-217.79;1-5-6-3-5-4-1-217.79;4-1-4-3-4-4-1-217.79;3-6-5-4-1-6-5-653.36;2-2-4-2-3-6-6-217.79;5-3-5-1-2-2-4-217.79;4-6-4-3-2-4-4-217.79;3-1-5-2-6-6-6-217.79;1-3-6-2-5-1-4-217.79;4-2-3-4-2-1-6-217.79;4-5-5-4-2-2-3-217.79;1-4-2-2-1-6-2-435.57;1-1-4-6-6-6-3-217.79;2-4-3-6-3-1-6-217.79;3-2-5-6-6-6-3-217.79;2-1-1-4-3-2-1-217.79;6-2-3-5-2-6-4-217.79;2-5-6-3-5-5-4-435.57;2-4-2-1-2-1-5-217.79;4-3-3-2-2-3-6-217.79;5-5-6-5-1-6-2-217.79;2-6-6-4-1-4-4-217.79;2-3-3-4-1-6-2-217.79;1-5-6-1-3-2-1-217.79;1-2-5-2-3-5-3-217.79;4-6-6-2-5-4-3-217.79;1-1-5-4-2-6-2-435.57;2-5-4-6-6-4-1-217.79;4-3-2-4-4-3-3-653.36;1-3-2-6-1-4-6-217.79;3-6-3-6-6-2-4-217.79;1-4-2-4-6-5-1-217.79\n",
      "</s>\n"
     ]
    }
   ],
   "source": [
    "untokenized_text = tokenizer.decode(tokenized_test_dataset[1]['input_ids']) \n",
    "print(untokenized_text)"
   ],
   "metadata": {
    "collapsed": false,
    "ExecuteTime": {
     "end_time": "2024-04-07T03:14:32.641358Z",
     "start_time": "2024-04-07T03:14:32.631708Z"
    }
   },
   "id": "1e6bd0ff0d639db3",
   "execution_count": 31
  },
  {
   "cell_type": "code",
   "outputs": [
    {
     "name": "stdout",
     "output_type": "stream",
     "text": [
      "10200\n"
     ]
    },
    {
     "data": {
      "text/plain": "<Figure size 1000x600 with 1 Axes>",
      "image/png": "[encoded data removed]"
     },
     "metadata": {},
     "output_type": "display_data"
    }
   ],
   "source": [
    "import matplotlib.pyplot as plt\n",
    "\n",
    "def plot_data_lengths(tokenized_dataset_train, tokenized_dataset_test):\n",
    "    lengths = [len(x['input_ids']) for x in tokenized_dataset_train]\n",
    "    lengths += [len(x['input_ids']) for x in tokenized_dataset_test]\n",
    "    print(len(lengths))\n",
    "\n",
    "    # Plotting the histogram\n",
    "    plt.figure(figsize=(10, 6))\n",
    "    plt.hist(lengths, bins=20, alpha=0.7, color='blue')\n",
    "    plt.xlabel('Length of input_ids')\n",
    "    plt.ylabel('Frequency')\n",
    "    plt.title('Distribution of Lengths of input_ids')\n",
    "    plt.show()\n",
    "\n",
    "plot_data_lengths(tokenized_train_dataset, tokenized_test_dataset)"
   ],
   "metadata": {
    "collapsed": false,
    "ExecuteTime": {
     "end_time": "2024-04-07T03:15:53.637334Z",
     "start_time": "2024-04-07T03:15:45.214198Z"
    }
   },
   "id": "b49f8283964e7fe2",
   "execution_count": 33
  },
  {
   "cell_type": "code",
   "outputs": [],
   "source": [
    "max_length = 2048 # This was an appropriate max length for my dataset\n",
    "\n",
    "# redefine the tokenize function and tokenizer\n",
    "\n",
    "tokenizer = AutoTokenizer.from_pretrained(\n",
    "    base_model,\n",
    "    padding_side=\"left\",\n",
    "    add_eos_token=True,  \n",
    "    add_bos_token=True,  \n",
    ")\n",
    "tokenizer.pad_token = tokenizer.eos_token\n",
    "\n",
    "\n",
    "def tokenize(prompt):\n",
    "    result = tokenizer(\n",
    "        prompt,\n",
    "        truncation=True,\n",
    "        max_length=max_length,\n",
    "        padding=\"max_length\",\n",
    "    )\n",
    "    result[\"labels\"] = result[\"input_ids\"].copy()\n",
    "    return result"
   ],
   "metadata": {
    "collapsed": false,
    "ExecuteTime": {
     "end_time": "2024-04-07T03:19:01.480497Z",
     "start_time": "2024-04-07T03:19:01.346595Z"
    }
   },
   "id": "6be14a453acef568",
   "execution_count": 34
  },
  {
   "cell_type": "code",
   "outputs": [
    {
     "data": {
      "text/plain": "Map:   0%|          | 0/10000 [00:00<?, ? examples/s]",
      "application/vnd.jupyter.widget-view+json": {
       "version_major": 2,
       "version_minor": 0,
       "model_id": "7f9f0a6501d7404e97a8813927e3041f"
      }
     },
     "metadata": {},
     "output_type": "display_data"
    },
    {
     "data": {
      "text/plain": "Map:   0%|          | 0/200 [00:00<?, ? examples/s]",
      "application/vnd.jupyter.widget-view+json": {
       "version_major": 2,
       "version_minor": 0,
       "model_id": "64616466753f47d7b072947c40ad32c5"
      }
     },
     "metadata": {},
     "output_type": "display_data"
    }
   ],
   "source": [
    "tokenized_train_dataset = allocation_dataset[\"train\"].map(generate_and_tokenize_prompt)\n",
    "tokenized_test_dataset = allocation_dataset[\"test\"].map(generate_and_tokenize_prompt)"
   ],
   "metadata": {
    "collapsed": false,
    "ExecuteTime": {
     "end_time": "2024-04-07T03:20:27.536552Z",
     "start_time": "2024-04-07T03:20:19.575871Z"
    }
   },
   "id": "1761bb224d09545f",
   "execution_count": 35
  },
  {
   "cell_type": "code",
   "outputs": [
    {
     "name": "stdout",
     "output_type": "stream",
     "text": [
      "[2, 2, 2, 2, 2, 2, 2, 2, 2, 2, 2, 2, 2, 2, 2, 2, 2, 2, 2, 2, 2, 2, 2, 2, 2, 2, 2, 2, 2, 2, 2, 2, 2, 2, 2, 2, 2, 2, 2, 2, 2, 2, 2, 2, 2, 2, 2, 2, 2, 2, 2, 2, 2, 2, 2, 2, 2, 2, 2, 2, 2, 2, 2, 2, 2, 2, 2, 2, 2, 2, 2, 2, 2, 2, 2, 2, 2, 2, 2, 2, 2, 2, 2, 2, 2, 2, 2, 2, 2, 2, 2, 2, 2, 2, 2, 2, 2, 2, 2, 2, 2, 2, 2, 2, 2, 2, 2, 2, 2, 2, 2, 2, 2, 2, 2, 2, 2, 2, 2, 2, 2, 2, 2, 2, 2, 2, 2, 2, 2, 2, 2, 2, 2, 2, 2, 2, 2, 2, 2, 2, 2, 2, 2, 2, 2, 2, 2, 2, 2, 2, 2, 2, 2, 2, 2, 2, 2, 2, 2, 2, 2, 2, 2, 2, 2, 2, 2, 2, 2, 2, 2, 2, 2, 2, 2, 2, 2, 2, 2, 2, 2, 2, 2, 2, 2, 2, 2, 2, 2, 2, 2, 2, 2, 2, 2, 2, 2, 2, 2, 2, 2, 2, 2, 2, 2, 2, 2, 2, 2, 2, 2, 2, 2, 2, 2, 2, 2, 2, 2, 2, 2, 2, 2, 2, 2, 2, 2, 2, 2, 2, 2, 2, 2, 2, 2, 2, 2, 2, 2, 2, 2, 2, 2, 2, 2, 2, 2, 2, 2, 2, 2, 2, 2, 2, 2, 2, 2, 2, 2, 2, 2, 2, 2, 2, 2, 1, 437, 24082, 363, 278, 2183, 27684, 13, 13, 2277, 29937, 7562, 27684, 29901, 13, 29906, 29899, 29906, 29899, 29953, 29899, 29896, 29899, 29896, 29899, 29953, 29899, 29941, 29899, 29953, 29947, 29941, 29906, 29941, 29889, 29945, 29955, 13, 13, 2277, 29937, 17157, 1238, 267, 29901, 13, 29946, 29899, 29945, 29899, 29896, 29899, 29946, 29899, 29945, 29899, 29945, 29899, 29945, 29899, 29953, 29947, 29941, 29889, 29906, 29946, 29936, 29896, 29899, 29945, 29899, 29945, 29899, 29953, 29899, 29946, 29899, 29896, 29899, 29896, 29899, 29896, 29941, 29953, 29953, 29889, 29946, 29955, 29936, 29896, 29899, 29941, 29899, 29896, 29899, 29941, 29899, 29953, 29899, 29946, 29899, 29945, 29899, 29953, 29947, 29941, 29889, 29906, 29946, 29936, 29941, 29899, 29946, 29899, 29906, 29899, 29946, 29899, 29896, 29899, 29906, 29899, 29941, 29899, 29896, 29941, 29953, 29953, 29889, 29946, 29955, 29936, 29941, 29899, 29941, 29899, 29945, 29899, 29896, 29899, 29941, 29899, 29946, 29899, 29906, 29899, 29953, 29947, 29941, 29889, 29906, 29946, 29936, 29953, 29899, 29941, 29899, 29946, 29899, 29941, 29899, 29896, 29899, 29946, 29899, 29941, 29899, 29953, 29947, 29941, 29889, 29906, 29946, 29936, 29941, 29899, 29953, 29899, 29896, 29899, 29946, 29899, 29953, 29899, 29953, 29899, 29946, 29899, 29953, 29947, 29941, 29889, 29906, 29946, 29936, 29896, 29899, 29906, 29899, 29906, 29899, 29896, 29899, 29946, 29899, 29906, 29899, 29953, 29899, 29953, 29947, 29941, 29889, 29906, 29946, 29936, 29945, 29899, 29945, 29899, 29946, 29899, 29953, 29899, 29896, 29899, 29953, 29899, 29896, 29899, 29953, 29947, 29941, 29889, 29906, 29946, 29936, 29953, 29899, 29953, 29899, 29896, 29899, 29941, 29899, 29896, 29899, 29945, 29899, 29953, 29899, 29953, 29947, 29941, 29889, 29906, 29946, 29936, 29946, 29899, 29896, 29899, 29945, 29899, 29953, 29899, 29945, 29899, 29906, 29899, 29896, 29899, 29953, 29947, 29941, 29889, 29906, 29946, 29936, 29906, 29899, 29953, 29899, 29953, 29899, 29896, 29899, 29953, 29899, 29906, 29899, 29941, 29899, 29896, 29941, 29953, 29953, 29889, 29946, 29955, 29936, 29953, 29899, 29953, 29899, 29953, 29899, 29953, 29899, 29945, 29899, 29953, 29899, 29906, 29899, 29953, 29947, 29941, 29889, 29906, 29946, 29936, 29906, 29899, 29906, 29899, 29953, 29899, 29953, 29899, 29946, 29899, 29953, 29899, 29896, 29899, 29953, 29947, 29941, 29889, 29906, 29946, 29936, 29941, 29899, 29906, 29899, 29946, 29899, 29941, 29899, 29945, 29899, 29946, 29899, 29953, 29899, 29953, 29947, 29941, 29889, 29906, 29946, 29936, 29945, 29899, 29945, 29899, 29906, 29899, 29946, 29899, 29941, 29899, 29941, 29899, 29906, 29899, 29953, 29947, 29941, 29889, 29906, 29946, 29936, 29896, 29899, 29941, 29899, 29941, 29899, 29906, 29899, 29946, 29899, 29946, 29899, 29941, 29899, 29953, 29947, 29941, 29889, 29906, 29946, 29936, 29953, 29899, 29896, 29899, 29941, 29899, 29945, 29899, 29941, 29899, 29945, 29899, 29896, 29899, 29953, 29947, 29941, 29889, 29906, 29946, 29936, 29896, 29899, 29945, 29899, 29946, 29899, 29946, 29899, 29941, 29899, 29896, 29899, 29945, 29899, 29953, 29947, 29941, 29889, 29906, 29946, 29936, 29953, 29899, 29896, 29899, 29946, 29899, 29896, 29899, 29946, 29899, 29945, 29899, 29946, 29899, 29953, 29947, 29941, 29889, 29906, 29946, 29936, 29945, 29899, 29945, 29899, 29896, 29899, 29945, 29899, 29906, 29899, 29945, 29899, 29946, 29899, 29953, 29947, 29941, 29889, 29906, 29946, 29936, 29946, 29899, 29941, 29899, 29941, 29899, 29941, 29899, 29953, 29899, 29896, 29899, 29941, 29899, 29953, 29947, 29941, 29889, 29906, 29946, 29936, 29946, 29899, 29953, 29899, 29945, 29899, 29946, 29899, 29906, 29899, 29953, 29899, 29945, 29899, 29953, 29947, 29941, 29889, 29906, 29946, 29936, 29906, 29899, 29896, 29899, 29953, 29899, 29906, 29899, 29896, 29899, 29945, 29899, 29946, 29899, 29953, 29947, 29941, 29889, 29906, 29946, 29936, 29953, 29899, 29896, 29899, 29946, 29899, 29945, 29899, 29945, 29899, 29946, 29899, 29906, 29899, 29953, 29947, 29941, 29889, 29906, 29946, 29936, 29906, 29899, 29953, 29899, 29953, 29899, 29941, 29899, 29946, 29899, 29945, 29899, 29941, 29899, 29896, 29941, 29953, 29953, 29889, 29946, 29955, 29936, 29946, 29899, 29953, 29899, 29896, 29899, 29896, 29899, 29946, 29899, 29953, 29899, 29941, 29899, 29953, 29947, 29941, 29889, 29906, 29946, 29936, 29906, 29899, 29953, 29899, 29896, 29899, 29896, 29899, 29941, 29899, 29953, 29899, 29896, 29899, 29953, 29947, 29941, 29889, 29906, 29946, 29936, 29945, 29899, 29941, 29899, 29896, 29899, 29906, 29899, 29941, 29899, 29946, 29899, 29953, 29899, 29953, 29947, 29941, 29889, 29906, 29946, 29936, 29946, 29899, 29945, 29899, 29953, 29899, 29941, 29899, 29953, 29899, 29946, 29899, 29946, 29899, 29953, 29947, 29941, 29889, 29906, 29946, 29936, 29896, 29899, 29945, 29899, 29945, 29899, 29941, 29899, 29945, 29899, 29945, 29899, 29896, 29899, 29953, 29947, 29941, 29889, 29906, 29946, 29936, 29941, 29899, 29945, 29899, 29941, 29899, 29945, 29899, 29941, 29899, 29946, 29899, 29896, 29899, 29953, 29947, 29941, 29889, 29906, 29946, 29936, 29946, 29899, 29946, 29899, 29945, 29899, 29896, 29899, 29906, 29899, 29941, 29899, 29945, 29899, 29953, 29947, 29941, 29889, 29906, 29946, 29936, 29896, 29899, 29896, 29899, 29945, 29899, 29896, 29899, 29896, 29899, 29941, 29899, 29953, 29899, 29953, 29947, 29941, 29889, 29906, 29946, 29936, 29945, 29899, 29946, 29899, 29906, 29899, 29906, 29899, 29946, 29899, 29946, 29899, 29945, 29899, 29953, 29947, 29941, 29889, 29906, 29946, 29936, 29896, 29899, 29945, 29899, 29941, 29899, 29953, 29899, 29953, 29899, 29946, 29899, 29941, 29899, 29896, 29941, 29953, 29953, 29889, 29946, 29955, 29936, 29945, 29899, 29946, 29899, 29946, 29899, 29953, 29899, 29896, 29899, 29896, 29899, 29906, 29899, 29896, 29941, 29953, 29953, 29889, 29946, 29955, 29936, 29941, 29899, 29896, 29899, 29896, 29899, 29941, 29899, 29896, 29899, 29945, 29899, 29941, 29899, 29896, 29941, 29953, 29953, 29889, 29946, 29955, 29936, 29946, 29899, 29896, 29899, 29941, 29899, 29945, 29899, 29896, 29899, 29953, 29899, 29941, 29899, 29953, 29947, 29941, 29889, 29906, 29946, 29936, 29896, 29899, 29896, 29899, 29953, 29899, 29896, 29899, 29941, 29899, 29953, 29899, 29896, 29899, 29953, 29947, 29941, 29889, 29906, 29946, 29936, 29945, 29899, 29896, 29899, 29945, 29899, 29906, 29899, 29953, 29899, 29906, 29899, 29945, 29899, 29953, 29947, 29941, 29889, 29906, 29946, 29936, 29953, 29899, 29945, 29899, 29953, 29899, 29896, 29899, 29941, 29899, 29946, 29899, 29953, 29899, 29953, 29947, 29941, 29889, 29906, 29946, 29936, 29896, 29899, 29945, 29899, 29896, 29899, 29941, 29899, 29896, 29899, 29896, 29899, 29946, 29899, 29953, 29947, 29941, 29889, 29906, 29946, 29936, 29945, 29899, 29896, 29899, 29941, 29899, 29945, 29899, 29946, 29899, 29906, 29899, 29896, 29899, 29953, 29947, 29941, 29889, 29906, 29946, 29936, 29945, 29899, 29946, 29899, 29945, 29899, 29896, 29899, 29953, 29899, 29946, 29899, 29953, 29899, 29953, 29947, 29941, 29889, 29906, 29946, 29936, 29906, 29899, 29945, 29899, 29896, 29899, 29896, 29899, 29906, 29899, 29953, 29899, 29906, 29899, 29953, 29947, 29941, 29889, 29906, 29946, 29936, 29941, 29899, 29896, 29899, 29946, 29899, 29953, 29899, 29941, 29899, 29896, 29899, 29945, 29899, 29953, 29947, 29941, 29889, 29906, 29946, 29936, 29941, 29899, 29945, 29899, 29896, 29899, 29946, 29899, 29941, 29899, 29946, 29899, 29896, 29899, 29906, 29955, 29941, 29906, 29889, 29929, 29946, 29936, 29906, 29899, 29945, 29899, 29945, 29899, 29945, 29899, 29896, 29899, 29945, 29899, 29941, 29899, 29896, 29941, 29953, 29953, 29889, 29946, 29955, 29936, 29946, 29899, 29953, 29899, 29946, 29899, 29941, 29899, 29945, 29899, 29906, 29899, 29906, 29899, 29953, 29947, 29941, 29889, 29906, 29946, 29936, 29906, 29899, 29906, 29899, 29906, 29899, 29896, 29899, 29945, 29899, 29941, 29899, 29896, 29899, 29953, 29947, 29941, 29889, 29906, 29946, 29936, 29896, 29899, 29945, 29899, 29953, 29899, 29941, 29899, 29945, 29899, 29946, 29899, 29896, 29899, 29953, 29947, 29941, 29889, 29906, 29946, 29936, 29946, 29899, 29896, 29899, 29946, 29899, 29941, 29899, 29946, 29899, 29946, 29899, 29896, 29899, 29953, 29947, 29941, 29889, 29906, 29946, 29936, 29941, 29899, 29953, 29899, 29945, 29899, 29946, 29899, 29896, 29899, 29953, 29899, 29945, 29899, 29906, 29900, 29946, 29929, 29889, 29955, 29896, 29936, 29906, 29899, 29906, 29899, 29946, 29899, 29906, 29899, 29941, 29899, 29953, 29899, 29953, 29899, 29953, 29947, 29941, 29889, 29906, 29946, 29936, 29945, 29899, 29941, 29899, 29945, 29899, 29896, 29899, 29906, 29899, 29906, 29899, 29946, 29899, 29953, 29947, 29941, 29889, 29906, 29946, 29936, 29946, 29899, 29953, 29899, 29946, 29899, 29941, 29899, 29906, 29899, 29946, 29899, 29946, 29899, 29953, 29947, 29941, 29889, 29906, 29946, 29936, 29941, 29899, 29896, 29899, 29945, 29899, 29906, 29899, 29953, 29899, 29953, 29899, 29953, 29899, 29953, 29947, 29941, 29889, 29906, 29946, 29936, 29896, 29899, 29941, 29899, 29953, 29899, 29906, 29899, 29945, 29899, 29896, 29899, 29946, 29899, 29953, 29947, 29941, 29889, 29906, 29946, 29936, 29946, 29899, 29906, 29899, 29941, 29899, 29946, 29899, 29906, 29899, 29896, 29899, 29953, 29899, 29953, 29947, 29941, 29889, 29906, 29946, 29936, 29946, 29899, 29945, 29899, 29945, 29899, 29946, 29899, 29906, 29899, 29906, 29899, 29941, 29899, 29953, 29947, 29941, 29889, 29906, 29946, 29936, 29896, 29899, 29946, 29899, 29906, 29899, 29906, 29899, 29896, 29899, 29953, 29899, 29906, 29899, 29896, 29941, 29953, 29953, 29889, 29946, 29955, 29936, 29896, 29899, 29896, 29899, 29946, 29899, 29953, 29899, 29953, 29899, 29953, 29899, 29941, 29899, 29953, 29947, 29941, 29889, 29906, 29946, 29936, 29906, 29899, 29946, 29899, 29941, 29899, 29953, 29899, 29941, 29899, 29896, 29899, 29953, 29899, 29953, 29947, 29941, 29889, 29906, 29946, 29936, 29941, 29899, 29906, 29899, 29945, 29899, 29953, 29899, 29953, 29899, 29953, 29899, 29941, 29899, 29953, 29947, 29941, 29889, 29906, 29946, 29936, 29906, 29899, 29896, 29899, 29896, 29899, 29946, 29899, 29941, 29899, 29906, 29899, 29896, 29899, 29953, 29947, 29941, 29889, 29906, 29946, 29936, 29953, 29899, 29906, 29899, 29941, 29899, 29945, 29899, 29906, 29899, 29953, 29899, 29946, 29899, 29953, 29947, 29941, 29889, 29906, 29946, 29936, 29906, 29899, 29945, 29899, 29953, 29899, 29941, 29899, 29945, 29899, 29945, 29899, 29946, 29899, 29896, 29941, 29953, 29953, 29889, 29946, 29955, 29936, 29906, 29899, 29946, 29899, 29906, 29899, 29896, 29899, 29906, 29899, 29896, 29899, 29945, 29899, 29953, 29947, 29941, 29889, 29906, 29946, 29936, 29946, 29899, 29941, 29899, 29941, 29899, 29906, 29899, 29906, 29899, 29941, 29899, 29953, 29899, 29953, 29947, 29941, 29889, 29906, 29946, 29936, 29945, 29899, 29945, 29899, 29953, 29899, 29945, 29899, 29896, 29899, 29953, 29899, 29906, 29899, 29953, 29947, 29941, 29889, 29906, 29946, 29936, 29906, 29899, 29953, 29899, 29953, 29899, 29946, 29899, 29896, 29899, 29946, 29899, 29946, 29899, 29953, 29947, 29941, 29889, 29906, 29946, 29936, 29906, 29899, 29941, 29899, 29941, 29899, 29946, 29899, 29896, 29899, 29953, 29899, 29906, 29899, 29953, 29947, 29941, 29889, 29906, 29946, 29936, 29896, 29899, 29945, 29899, 29953, 29899, 29896, 29899, 29941, 29899, 29906, 29899, 29896, 29899, 29953, 29947, 29941, 29889, 29906, 29946, 29936, 29896, 29899, 29906, 29899, 29945, 29899, 29906, 29899, 29941, 29899, 29945, 29899, 29941, 29899, 29953, 29947, 29941, 29889, 29906, 29946, 29936, 29946, 29899, 29953, 29899, 29953, 29899, 29906, 29899, 29945, 29899, 29946, 29899, 29941, 29899, 29953, 29947, 29941, 29889, 29906, 29946, 29936, 29896, 29899, 29896, 29899, 29945, 29899, 29946, 29899, 29906, 29899, 29953, 29899, 29906, 29899, 29896, 29941, 29953, 29953, 29889, 29946, 29955, 29936, 29906, 29899, 29945, 29899, 29946, 29899, 29953, 29899, 29953, 29899, 29946, 29899, 29896, 29899, 29953, 29947, 29941, 29889, 29906, 29946, 29936, 29946, 29899, 29941, 29899, 29906, 29899, 29946, 29899, 29946, 29899, 29941, 29899, 29941, 29899, 29906, 29900, 29946, 29929, 29889, 29955, 29896, 29936, 29896, 29899, 29941, 29899, 29906, 29899, 29953, 29899, 29896, 29899, 29946, 29899, 29953, 29899, 29953, 29947, 29941, 29889, 29906, 29946, 29936, 29941, 29899, 29953, 29899, 29941, 29899, 29953, 29899, 29953, 29899, 29906, 29899, 29946, 29899, 29953, 29947, 29941, 29889, 29906, 29946, 29936, 29896, 29899, 29946, 29899, 29906, 29899, 29946, 29899, 29953, 29899, 29945, 29899, 29896, 29899, 29953, 29947, 29941, 29889, 29906, 29946, 13, 2]\n"
     ]
    }
   ],
   "source": [
    "print(tokenized_train_dataset[4]['input_ids'])"
   ],
   "metadata": {
    "collapsed": false,
    "ExecuteTime": {
     "end_time": "2024-04-07T03:20:38.187411Z",
     "start_time": "2024-04-07T03:20:38.182877Z"
    }
   },
   "id": "122399af989020da",
   "execution_count": 36
  },
  {
   "cell_type": "code",
   "outputs": [],
   "source": [
    "from peft import prepare_model_for_kbit_training\n",
    "\n",
    "model.gradient_checkpointing_enable()\n",
    "model = prepare_model_for_kbit_training(model)"
   ],
   "metadata": {
    "collapsed": false,
    "ExecuteTime": {
     "end_time": "2024-04-07T03:27:17.700835Z",
     "start_time": "2024-04-07T03:27:17.666854Z"
    }
   },
   "id": "4d74cdb2baedc865",
   "execution_count": 37
  },
  {
   "cell_type": "code",
   "outputs": [],
   "source": [
    "def print_trainable_parameters(model):\n",
    "    \"\"\"\n",
    "    Prints the number of trainable parameters in the model.\n",
    "    \"\"\"\n",
    "    trainable_params = 0\n",
    "    all_param = 0\n",
    "    for _, param in model.named_parameters():\n",
    "        all_param += param.numel()\n",
    "        if param.requires_grad:\n",
    "            trainable_params += param.numel()\n",
    "    print(\n",
    "        f\"trainable params: {trainable_params} || all params: {all_param} || trainable%: {100 * trainable_params / all_param}\"\n",
    "    )"
   ],
   "metadata": {
    "collapsed": false,
    "ExecuteTime": {
     "end_time": "2024-04-07T03:27:40.331288Z",
     "start_time": "2024-04-07T03:27:40.328465Z"
    }
   },
   "id": "1478377fbbe4dea1",
   "execution_count": 38
  },
  {
   "cell_type": "code",
   "outputs": [
    {
     "name": "stdout",
     "output_type": "stream",
     "text": [
      "trainable params: 20277248 || all params: 3520690176 || trainable%: 0.5759452546613406\n"
     ]
    }
   ],
   "source": [
    "from peft import LoraConfig, get_peft_model\n",
    "\n",
    "config = LoraConfig(\n",
    "    r=8,\n",
    "    lora_alpha=16,\n",
    "    target_modules=[\n",
    "        \"q_proj\",\n",
    "        \"k_proj\",\n",
    "        \"v_proj\",\n",
    "        \"o_proj\",\n",
    "        \"gate_proj\",\n",
    "        \"up_proj\",\n",
    "        \"down_proj\",\n",
    "        \"lm_head\",\n",
    "    ],\n",
    "    bias=\"none\",\n",
    "    lora_dropout=0.05,  # Conventional\n",
    "    task_type=\"CAUSAL_LM\",\n",
    ")\n",
    "\n",
    "model = get_peft_model(model, config)\n",
    "print_trainable_parameters(model)\n",
    "\n",
    "# Apply the accelerator. You can comment this out to remove the accelerator.\n",
    "model = accelerator.prepare_model(model)"
   ],
   "metadata": {
    "collapsed": false,
    "ExecuteTime": {
     "end_time": "2024-04-07T03:30:32.815821Z",
     "start_time": "2024-04-07T03:30:32.570583Z"
    }
   },
   "id": "1dd9e12c69d2e0e1",
   "execution_count": 40
  },
  {
   "cell_type": "code",
   "outputs": [
    {
     "name": "stderr",
     "output_type": "stream",
     "text": [
      "C:\\Users\\naych\\miniconda3\\envs\\RuiwangTraining\\Lib\\site-packages\\accelerate\\accelerator.py:432: FutureWarning: Passing the following arguments to `Accelerator` is deprecated and will be removed in version 1.0 of Accelerate: dict_keys(['dispatch_batches', 'split_batches', 'even_batches', 'use_seedable_sampler']). Please pass an `accelerate.DataLoaderConfiguration` instead: \n",
      "dataloader_config = DataLoaderConfiguration(dispatch_batches=None, split_batches=False, even_batches=True, use_seedable_sampler=True)\n",
      "  warnings.warn(\n"
     ]
    }
   ],
   "source": [
    "import transformers\n",
    "from datetime import datetime\n",
    "\n",
    "project = \"capa\"\n",
    "base_model_name = \"llama2-7b\"\n",
    "run_name = base_model_name + \"-\" + project\n",
    "output_dir = \"./result/\" + run_name\n",
    "\n",
    "tokenizer.pad_token = tokenizer.eos_token\n",
    "\n",
    "trainer = transformers.Trainer(\n",
    "    model=model,\n",
    "    train_dataset=tokenized_train_dataset,\n",
    "    eval_dataset=tokenized_test_dataset,\n",
    "    args=transformers.TrainingArguments(\n",
    "        output_dir=output_dir,\n",
    "        warmup_steps=5,\n",
    "        per_device_train_batch_size=2,\n",
    "        gradient_checkpointing=True,\n",
    "        gradient_accumulation_steps=4,\n",
    "        max_steps=1000,\n",
    "        learning_rate=2.5e-5,\n",
    "        logging_steps=50,\n",
    "        bf16=True,\n",
    "        optim=\"paged_adamw_8bit\",\n",
    "        logging_dir=\"./logs\",        # Directory for storing logs\n",
    "        save_strategy=\"steps\",       # Save the model checkpoint every logging step\n",
    "        save_steps=25,                # Save checkpoints every 50 steps\n",
    "        evaluation_strategy=\"steps\", # Evaluate the model every logging step\n",
    "        eval_steps=50,               # Evaluate and save checkpoints every 50 steps\n",
    "        do_eval=True,                # Perform evaluation at the end of training\n",
    "        # report_to=\"wandb\",           # Comment this out if you don't want to use weights & baises\n",
    "        run_name=f\"{run_name}-{datetime.now().strftime('%Y-%m-%d-%H-%M')}\"          # Name of the W&B run (optional)\n",
    "    ),\n",
    "    data_collator=transformers.DataCollatorForLanguageModeling(tokenizer, mlm=False),\n",
    ")\n",
    "\n",
    "model.config.use_cache = False  # silence the warnings. Please re-enable for inference!"
   ],
   "metadata": {
    "collapsed": false,
    "ExecuteTime": {
     "end_time": "2024-04-07T03:33:14.825299Z",
     "start_time": "2024-04-07T03:33:14.812447Z"
    }
   },
   "id": "321c3738014cb09b",
   "execution_count": 41
  },
  {
   "cell_type": "code",
   "outputs": [
    {
     "name": "stderr",
     "output_type": "stream",
     "text": [
      "C:\\Users\\naych\\miniconda3\\envs\\RuiwangTraining\\Lib\\site-packages\\torch\\utils\\checkpoint.py:460: UserWarning: torch.utils.checkpoint: please pass in use_reentrant=True or use_reentrant=False explicitly. The default value of use_reentrant will be updated to be False in the future. To maintain current behavior, pass use_reentrant=True. It is recommended that you use use_reentrant=False. Refer to docs for more details on the differences between the two variants.\n",
      "  warnings.warn(\n",
      "C:\\Users\\naych\\miniconda3\\envs\\RuiwangTraining\\Lib\\site-packages\\transformers\\models\\llama\\modeling_llama.py:670: UserWarning: 1Torch was not compiled with flash attention. (Triggered internally at ..\\aten\\src\\ATen\\native\\transformers\\cuda\\sdp_utils.cpp:263.)\n",
      "  attn_output = torch.nn.functional.scaled_dot_product_attention(\n"
     ]
    },
    {
     "data": {
      "text/plain": "<IPython.core.display.HTML object>",
      "text/html": "\n    <div>\n      \n      <progress value='26' max='1000' style='width:300px; height:20px; vertical-align: middle;'></progress>\n      [  26/1000 04:52 < 3:18:09, 0.08 it/s, Epoch 0.02/1]\n    </div>\n    <table border=\"1\" class=\"dataframe\">\n  <thead>\n <tr style=\"text-align: left;\">\n      <th>Step</th>\n      <th>Training Loss</th>\n      <th>Validation Loss</th>\n    </tr>\n  </thead>\n  <tbody>\n  </tbody>\n</table><p>"
     },
     "metadata": {},
     "output_type": "display_data"
    },
    {
     "data": {
      "text/plain": "<IPython.core.display.HTML object>",
      "text/html": "\n    <div>\n      \n      <progress value='51' max='1000' style='width:300px; height:20px; vertical-align: middle;'></progress>\n      [  51/1000 09:56 < 3:12:34, 0.08 it/s, Epoch 0.04/1]\n    </div>\n    <table border=\"1\" class=\"dataframe\">\n  <thead>\n <tr style=\"text-align: left;\">\n      <th>Step</th>\n      <th>Training Loss</th>\n      <th>Validation Loss</th>\n    </tr>\n  </thead>\n  <tbody>\n    <tr>\n      <td>50</td>\n      <td>0.869400</td>\n      <td>0.773680</td>\n    </tr>\n  </tbody>\n</table><p>"
     },
     "metadata": {},
     "output_type": "display_data"
    },
    {
     "data": {
      "text/plain": "<IPython.core.display.HTML object>",
      "text/html": "\n    <div>\n      \n      <progress value='76' max='1000' style='width:300px; height:20px; vertical-align: middle;'></progress>\n      [  76/1000 16:14 < 3:22:49, 0.08 it/s, Epoch 0.06/1]\n    </div>\n    <table border=\"1\" class=\"dataframe\">\n  <thead>\n <tr style=\"text-align: left;\">\n      <th>Step</th>\n      <th>Training Loss</th>\n      <th>Validation Loss</th>\n    </tr>\n  </thead>\n  <tbody>\n    <tr>\n      <td>50</td>\n      <td>0.869400</td>\n      <td>0.773680</td>\n    </tr>\n  </tbody>\n</table><p>"
     },
     "metadata": {},
     "output_type": "display_data"
    },
    {
     "data": {
      "text/plain": "<IPython.core.display.HTML object>",
      "text/html": "\n    <div>\n      \n      <progress value='101' max='1000' style='width:300px; height:20px; vertical-align: middle;'></progress>\n      [ 101/1000 21:14 < 3:12:51, 0.08 it/s, Epoch 0.08/1]\n    </div>\n    <table border=\"1\" class=\"dataframe\">\n  <thead>\n <tr style=\"text-align: left;\">\n      <th>Step</th>\n      <th>Training Loss</th>\n      <th>Validation Loss</th>\n    </tr>\n  </thead>\n  <tbody>\n    <tr>\n      <td>50</td>\n      <td>0.869400</td>\n      <td>0.773680</td>\n    </tr>\n    <tr>\n      <td>100</td>\n      <td>0.704200</td>\n      <td>0.717387</td>\n    </tr>\n  </tbody>\n</table><p>"
     },
     "metadata": {},
     "output_type": "display_data"
    },
    {
     "data": {
      "text/plain": "<IPython.core.display.HTML object>",
      "text/html": "\n    <div>\n      \n      <progress value='126' max='1000' style='width:300px; height:20px; vertical-align: middle;'></progress>\n      [ 126/1000 27:32 < 3:14:06, 0.08 it/s, Epoch 0.10/1]\n    </div>\n    <table border=\"1\" class=\"dataframe\">\n  <thead>\n <tr style=\"text-align: left;\">\n      <th>Step</th>\n      <th>Training Loss</th>\n      <th>Validation Loss</th>\n    </tr>\n  </thead>\n  <tbody>\n    <tr>\n      <td>50</td>\n      <td>0.869400</td>\n      <td>0.773680</td>\n    </tr>\n    <tr>\n      <td>100</td>\n      <td>0.704200</td>\n      <td>0.717387</td>\n    </tr>\n  </tbody>\n</table><p>"
     },
     "metadata": {},
     "output_type": "display_data"
    },
    {
     "data": {
      "text/plain": "<IPython.core.display.HTML object>",
      "text/html": "\n    <div>\n      \n      <progress value='151' max='1000' style='width:300px; height:20px; vertical-align: middle;'></progress>\n      [ 151/1000 32:32 < 3:05:23, 0.08 it/s, Epoch 0.12/1]\n    </div>\n    <table border=\"1\" class=\"dataframe\">\n  <thead>\n <tr style=\"text-align: left;\">\n      <th>Step</th>\n      <th>Training Loss</th>\n      <th>Validation Loss</th>\n    </tr>\n  </thead>\n  <tbody>\n    <tr>\n      <td>50</td>\n      <td>0.869400</td>\n      <td>0.773680</td>\n    </tr>\n    <tr>\n      <td>100</td>\n      <td>0.704200</td>\n      <td>0.717387</td>\n    </tr>\n    <tr>\n      <td>150</td>\n      <td>0.694400</td>\n      <td>0.675513</td>\n    </tr>\n  </tbody>\n</table><p>"
     },
     "metadata": {},
     "output_type": "display_data"
    },
    {
     "data": {
      "text/plain": "<IPython.core.display.HTML object>",
      "text/html": "\n    <div>\n      \n      <progress value='176' max='1000' style='width:300px; height:20px; vertical-align: middle;'></progress>\n      [ 176/1000 38:50 < 3:03:55, 0.07 it/s, Epoch 0.14/1]\n    </div>\n    <table border=\"1\" class=\"dataframe\">\n  <thead>\n <tr style=\"text-align: left;\">\n      <th>Step</th>\n      <th>Training Loss</th>\n      <th>Validation Loss</th>\n    </tr>\n  </thead>\n  <tbody>\n    <tr>\n      <td>50</td>\n      <td>0.869400</td>\n      <td>0.773680</td>\n    </tr>\n    <tr>\n      <td>100</td>\n      <td>0.704200</td>\n      <td>0.717387</td>\n    </tr>\n    <tr>\n      <td>150</td>\n      <td>0.694400</td>\n      <td>0.675513</td>\n    </tr>\n  </tbody>\n</table><p>"
     },
     "metadata": {},
     "output_type": "display_data"
    },
    {
     "data": {
      "text/plain": "<IPython.core.display.HTML object>",
      "text/html": "\n    <div>\n      \n      <progress value='201' max='1000' style='width:300px; height:20px; vertical-align: middle;'></progress>\n      [ 201/1000 43:49 < 2:55:59, 0.08 it/s, Epoch 0.16/1]\n    </div>\n    <table border=\"1\" class=\"dataframe\">\n  <thead>\n <tr style=\"text-align: left;\">\n      <th>Step</th>\n      <th>Training Loss</th>\n      <th>Validation Loss</th>\n    </tr>\n  </thead>\n  <tbody>\n    <tr>\n      <td>50</td>\n      <td>0.869400</td>\n      <td>0.773680</td>\n    </tr>\n    <tr>\n      <td>100</td>\n      <td>0.704200</td>\n      <td>0.717387</td>\n    </tr>\n    <tr>\n      <td>150</td>\n      <td>0.694400</td>\n      <td>0.675513</td>\n    </tr>\n    <tr>\n      <td>200</td>\n      <td>0.635200</td>\n      <td>0.590456</td>\n    </tr>\n  </tbody>\n</table><p>"
     },
     "metadata": {},
     "output_type": "display_data"
    },
    {
     "data": {
      "text/plain": "<IPython.core.display.HTML object>",
      "text/html": "\n    <div>\n      \n      <progress value='226' max='1000' style='width:300px; height:20px; vertical-align: middle;'></progress>\n      [ 226/1000 50:08 < 2:53:13, 0.07 it/s, Epoch 0.18/1]\n    </div>\n    <table border=\"1\" class=\"dataframe\">\n  <thead>\n <tr style=\"text-align: left;\">\n      <th>Step</th>\n      <th>Training Loss</th>\n      <th>Validation Loss</th>\n    </tr>\n  </thead>\n  <tbody>\n    <tr>\n      <td>50</td>\n      <td>0.869400</td>\n      <td>0.773680</td>\n    </tr>\n    <tr>\n      <td>100</td>\n      <td>0.704200</td>\n      <td>0.717387</td>\n    </tr>\n    <tr>\n      <td>150</td>\n      <td>0.694400</td>\n      <td>0.675513</td>\n    </tr>\n    <tr>\n      <td>200</td>\n      <td>0.635200</td>\n      <td>0.590456</td>\n    </tr>\n  </tbody>\n</table><p>"
     },
     "metadata": {},
     "output_type": "display_data"
    },
    {
     "data": {
      "text/plain": "<IPython.core.display.HTML object>",
      "text/html": "\n    <div>\n      \n      <progress value='251' max='1000' style='width:300px; height:20px; vertical-align: middle;'></progress>\n      [ 251/1000 55:07 < 2:45:49, 0.08 it/s, Epoch 0.20/1]\n    </div>\n    <table border=\"1\" class=\"dataframe\">\n  <thead>\n <tr style=\"text-align: left;\">\n      <th>Step</th>\n      <th>Training Loss</th>\n      <th>Validation Loss</th>\n    </tr>\n  </thead>\n  <tbody>\n    <tr>\n      <td>50</td>\n      <td>0.869400</td>\n      <td>0.773680</td>\n    </tr>\n    <tr>\n      <td>100</td>\n      <td>0.704200</td>\n      <td>0.717387</td>\n    </tr>\n    <tr>\n      <td>150</td>\n      <td>0.694400</td>\n      <td>0.675513</td>\n    </tr>\n    <tr>\n      <td>200</td>\n      <td>0.635200</td>\n      <td>0.590456</td>\n    </tr>\n    <tr>\n      <td>250</td>\n      <td>0.558000</td>\n      <td>0.498922</td>\n    </tr>\n  </tbody>\n</table><p>"
     },
     "metadata": {},
     "output_type": "display_data"
    },
    {
     "data": {
      "text/plain": "<IPython.core.display.HTML object>",
      "text/html": "\n    <div>\n      \n      <progress value='276' max='1000' style='width:300px; height:20px; vertical-align: middle;'></progress>\n      [ 276/1000 1:01:25 < 2:42:19, 0.07 it/s, Epoch 0.22/1]\n    </div>\n    <table border=\"1\" class=\"dataframe\">\n  <thead>\n <tr style=\"text-align: left;\">\n      <th>Step</th>\n      <th>Training Loss</th>\n      <th>Validation Loss</th>\n    </tr>\n  </thead>\n  <tbody>\n    <tr>\n      <td>50</td>\n      <td>0.869400</td>\n      <td>0.773680</td>\n    </tr>\n    <tr>\n      <td>100</td>\n      <td>0.704200</td>\n      <td>0.717387</td>\n    </tr>\n    <tr>\n      <td>150</td>\n      <td>0.694400</td>\n      <td>0.675513</td>\n    </tr>\n    <tr>\n      <td>200</td>\n      <td>0.635200</td>\n      <td>0.590456</td>\n    </tr>\n    <tr>\n      <td>250</td>\n      <td>0.558000</td>\n      <td>0.498922</td>\n    </tr>\n  </tbody>\n</table><p>"
     },
     "metadata": {},
     "output_type": "display_data"
    },
    {
     "data": {
      "text/plain": "<IPython.core.display.HTML object>",
      "text/html": "\n    <div>\n      \n      <progress value='301' max='1000' style='width:300px; height:20px; vertical-align: middle;'></progress>\n      [ 301/1000 1:06:25 < 2:35:17, 0.08 it/s, Epoch 0.24/1]\n    </div>\n    <table border=\"1\" class=\"dataframe\">\n  <thead>\n <tr style=\"text-align: left;\">\n      <th>Step</th>\n      <th>Training Loss</th>\n      <th>Validation Loss</th>\n    </tr>\n  </thead>\n  <tbody>\n    <tr>\n      <td>50</td>\n      <td>0.869400</td>\n      <td>0.773680</td>\n    </tr>\n    <tr>\n      <td>100</td>\n      <td>0.704200</td>\n      <td>0.717387</td>\n    </tr>\n    <tr>\n      <td>150</td>\n      <td>0.694400</td>\n      <td>0.675513</td>\n    </tr>\n    <tr>\n      <td>200</td>\n      <td>0.635200</td>\n      <td>0.590456</td>\n    </tr>\n    <tr>\n      <td>250</td>\n      <td>0.558000</td>\n      <td>0.498922</td>\n    </tr>\n    <tr>\n      <td>300</td>\n      <td>0.463600</td>\n      <td>0.404825</td>\n    </tr>\n  </tbody>\n</table><p>"
     },
     "metadata": {},
     "output_type": "display_data"
    },
    {
     "data": {
      "text/plain": "<IPython.core.display.HTML object>",
      "text/html": "\n    <div>\n      \n      <progress value='326' max='1000' style='width:300px; height:20px; vertical-align: middle;'></progress>\n      [ 326/1000 1:12:43 < 2:31:17, 0.07 it/s, Epoch 0.26/1]\n    </div>\n    <table border=\"1\" class=\"dataframe\">\n  <thead>\n <tr style=\"text-align: left;\">\n      <th>Step</th>\n      <th>Training Loss</th>\n      <th>Validation Loss</th>\n    </tr>\n  </thead>\n  <tbody>\n    <tr>\n      <td>50</td>\n      <td>0.869400</td>\n      <td>0.773680</td>\n    </tr>\n    <tr>\n      <td>100</td>\n      <td>0.704200</td>\n      <td>0.717387</td>\n    </tr>\n    <tr>\n      <td>150</td>\n      <td>0.694400</td>\n      <td>0.675513</td>\n    </tr>\n    <tr>\n      <td>200</td>\n      <td>0.635200</td>\n      <td>0.590456</td>\n    </tr>\n    <tr>\n      <td>250</td>\n      <td>0.558000</td>\n      <td>0.498922</td>\n    </tr>\n    <tr>\n      <td>300</td>\n      <td>0.463600</td>\n      <td>0.404825</td>\n    </tr>\n  </tbody>\n</table><p>"
     },
     "metadata": {},
     "output_type": "display_data"
    },
    {
     "data": {
      "text/plain": "<IPython.core.display.HTML object>",
      "text/html": "\n    <div>\n      \n      <progress value='351' max='1000' style='width:300px; height:20px; vertical-align: middle;'></progress>\n      [ 351/1000 1:17:43 < 2:24:32, 0.07 it/s, Epoch 0.28/1]\n    </div>\n    <table border=\"1\" class=\"dataframe\">\n  <thead>\n <tr style=\"text-align: left;\">\n      <th>Step</th>\n      <th>Training Loss</th>\n      <th>Validation Loss</th>\n    </tr>\n  </thead>\n  <tbody>\n    <tr>\n      <td>50</td>\n      <td>0.869400</td>\n      <td>0.773680</td>\n    </tr>\n    <tr>\n      <td>100</td>\n      <td>0.704200</td>\n      <td>0.717387</td>\n    </tr>\n    <tr>\n      <td>150</td>\n      <td>0.694400</td>\n      <td>0.675513</td>\n    </tr>\n    <tr>\n      <td>200</td>\n      <td>0.635200</td>\n      <td>0.590456</td>\n    </tr>\n    <tr>\n      <td>250</td>\n      <td>0.558000</td>\n      <td>0.498922</td>\n    </tr>\n    <tr>\n      <td>300</td>\n      <td>0.463600</td>\n      <td>0.404825</td>\n    </tr>\n    <tr>\n      <td>350</td>\n      <td>0.366500</td>\n      <td>0.323447</td>\n    </tr>\n  </tbody>\n</table><p>"
     },
     "metadata": {},
     "output_type": "display_data"
    },
    {
     "data": {
      "text/plain": "<IPython.core.display.HTML object>",
      "text/html": "\n    <div>\n      \n      <progress value='376' max='1000' style='width:300px; height:20px; vertical-align: middle;'></progress>\n      [ 376/1000 1:24:01 < 2:20:12, 0.07 it/s, Epoch 0.30/1]\n    </div>\n    <table border=\"1\" class=\"dataframe\">\n  <thead>\n <tr style=\"text-align: left;\">\n      <th>Step</th>\n      <th>Training Loss</th>\n      <th>Validation Loss</th>\n    </tr>\n  </thead>\n  <tbody>\n    <tr>\n      <td>50</td>\n      <td>0.869400</td>\n      <td>0.773680</td>\n    </tr>\n    <tr>\n      <td>100</td>\n      <td>0.704200</td>\n      <td>0.717387</td>\n    </tr>\n    <tr>\n      <td>150</td>\n      <td>0.694400</td>\n      <td>0.675513</td>\n    </tr>\n    <tr>\n      <td>200</td>\n      <td>0.635200</td>\n      <td>0.590456</td>\n    </tr>\n    <tr>\n      <td>250</td>\n      <td>0.558000</td>\n      <td>0.498922</td>\n    </tr>\n    <tr>\n      <td>300</td>\n      <td>0.463600</td>\n      <td>0.404825</td>\n    </tr>\n    <tr>\n      <td>350</td>\n      <td>0.366500</td>\n      <td>0.323447</td>\n    </tr>\n  </tbody>\n</table><p>"
     },
     "metadata": {},
     "output_type": "display_data"
    },
    {
     "data": {
      "text/plain": "<IPython.core.display.HTML object>",
      "text/html": "\n    <div>\n      \n      <progress value='401' max='1000' style='width:300px; height:20px; vertical-align: middle;'></progress>\n      [ 401/1000 1:29:01 < 2:13:39, 0.07 it/s, Epoch 0.32/1]\n    </div>\n    <table border=\"1\" class=\"dataframe\">\n  <thead>\n <tr style=\"text-align: left;\">\n      <th>Step</th>\n      <th>Training Loss</th>\n      <th>Validation Loss</th>\n    </tr>\n  </thead>\n  <tbody>\n    <tr>\n      <td>50</td>\n      <td>0.869400</td>\n      <td>0.773680</td>\n    </tr>\n    <tr>\n      <td>100</td>\n      <td>0.704200</td>\n      <td>0.717387</td>\n    </tr>\n    <tr>\n      <td>150</td>\n      <td>0.694400</td>\n      <td>0.675513</td>\n    </tr>\n    <tr>\n      <td>200</td>\n      <td>0.635200</td>\n      <td>0.590456</td>\n    </tr>\n    <tr>\n      <td>250</td>\n      <td>0.558000</td>\n      <td>0.498922</td>\n    </tr>\n    <tr>\n      <td>300</td>\n      <td>0.463600</td>\n      <td>0.404825</td>\n    </tr>\n    <tr>\n      <td>350</td>\n      <td>0.366500</td>\n      <td>0.323447</td>\n    </tr>\n    <tr>\n      <td>400</td>\n      <td>0.296800</td>\n      <td>0.258233</td>\n    </tr>\n  </tbody>\n</table><p>"
     },
     "metadata": {},
     "output_type": "display_data"
    },
    {
     "data": {
      "text/plain": "<IPython.core.display.HTML object>",
      "text/html": "\n    <div>\n      \n      <progress value='426' max='1000' style='width:300px; height:20px; vertical-align: middle;'></progress>\n      [ 426/1000 1:35:20 < 2:09:03, 0.07 it/s, Epoch 0.34/1]\n    </div>\n    <table border=\"1\" class=\"dataframe\">\n  <thead>\n <tr style=\"text-align: left;\">\n      <th>Step</th>\n      <th>Training Loss</th>\n      <th>Validation Loss</th>\n    </tr>\n  </thead>\n  <tbody>\n    <tr>\n      <td>50</td>\n      <td>0.869400</td>\n      <td>0.773680</td>\n    </tr>\n    <tr>\n      <td>100</td>\n      <td>0.704200</td>\n      <td>0.717387</td>\n    </tr>\n    <tr>\n      <td>150</td>\n      <td>0.694400</td>\n      <td>0.675513</td>\n    </tr>\n    <tr>\n      <td>200</td>\n      <td>0.635200</td>\n      <td>0.590456</td>\n    </tr>\n    <tr>\n      <td>250</td>\n      <td>0.558000</td>\n      <td>0.498922</td>\n    </tr>\n    <tr>\n      <td>300</td>\n      <td>0.463600</td>\n      <td>0.404825</td>\n    </tr>\n    <tr>\n      <td>350</td>\n      <td>0.366500</td>\n      <td>0.323447</td>\n    </tr>\n    <tr>\n      <td>400</td>\n      <td>0.296800</td>\n      <td>0.258233</td>\n    </tr>\n  </tbody>\n</table><p>"
     },
     "metadata": {},
     "output_type": "display_data"
    },
    {
     "data": {
      "text/plain": "<IPython.core.display.HTML object>",
      "text/html": "\n    <div>\n      \n      <progress value='451' max='1000' style='width:300px; height:20px; vertical-align: middle;'></progress>\n      [ 451/1000 1:40:19 < 2:02:40, 0.07 it/s, Epoch 0.36/1]\n    </div>\n    <table border=\"1\" class=\"dataframe\">\n  <thead>\n <tr style=\"text-align: left;\">\n      <th>Step</th>\n      <th>Training Loss</th>\n      <th>Validation Loss</th>\n    </tr>\n  </thead>\n  <tbody>\n    <tr>\n      <td>50</td>\n      <td>0.869400</td>\n      <td>0.773680</td>\n    </tr>\n    <tr>\n      <td>100</td>\n      <td>0.704200</td>\n      <td>0.717387</td>\n    </tr>\n    <tr>\n      <td>150</td>\n      <td>0.694400</td>\n      <td>0.675513</td>\n    </tr>\n    <tr>\n      <td>200</td>\n      <td>0.635200</td>\n      <td>0.590456</td>\n    </tr>\n    <tr>\n      <td>250</td>\n      <td>0.558000</td>\n      <td>0.498922</td>\n    </tr>\n    <tr>\n      <td>300</td>\n      <td>0.463600</td>\n      <td>0.404825</td>\n    </tr>\n    <tr>\n      <td>350</td>\n      <td>0.366500</td>\n      <td>0.323447</td>\n    </tr>\n    <tr>\n      <td>400</td>\n      <td>0.296800</td>\n      <td>0.258233</td>\n    </tr>\n    <tr>\n      <td>450</td>\n      <td>0.240900</td>\n      <td>0.207625</td>\n    </tr>\n  </tbody>\n</table><p>"
     },
     "metadata": {},
     "output_type": "display_data"
    },
    {
     "data": {
      "text/plain": "<IPython.core.display.HTML object>",
      "text/html": "\n    <div>\n      \n      <progress value='476' max='1000' style='width:300px; height:20px; vertical-align: middle;'></progress>\n      [ 476/1000 1:46:38 < 1:57:53, 0.07 it/s, Epoch 0.38/1]\n    </div>\n    <table border=\"1\" class=\"dataframe\">\n  <thead>\n <tr style=\"text-align: left;\">\n      <th>Step</th>\n      <th>Training Loss</th>\n      <th>Validation Loss</th>\n    </tr>\n  </thead>\n  <tbody>\n    <tr>\n      <td>50</td>\n      <td>0.869400</td>\n      <td>0.773680</td>\n    </tr>\n    <tr>\n      <td>100</td>\n      <td>0.704200</td>\n      <td>0.717387</td>\n    </tr>\n    <tr>\n      <td>150</td>\n      <td>0.694400</td>\n      <td>0.675513</td>\n    </tr>\n    <tr>\n      <td>200</td>\n      <td>0.635200</td>\n      <td>0.590456</td>\n    </tr>\n    <tr>\n      <td>250</td>\n      <td>0.558000</td>\n      <td>0.498922</td>\n    </tr>\n    <tr>\n      <td>300</td>\n      <td>0.463600</td>\n      <td>0.404825</td>\n    </tr>\n    <tr>\n      <td>350</td>\n      <td>0.366500</td>\n      <td>0.323447</td>\n    </tr>\n    <tr>\n      <td>400</td>\n      <td>0.296800</td>\n      <td>0.258233</td>\n    </tr>\n    <tr>\n      <td>450</td>\n      <td>0.240900</td>\n      <td>0.207625</td>\n    </tr>\n  </tbody>\n</table><p>"
     },
     "metadata": {},
     "output_type": "display_data"
    },
    {
     "data": {
      "text/plain": "<IPython.core.display.HTML object>",
      "text/html": "\n    <div>\n      \n      <progress value='501' max='1000' style='width:300px; height:20px; vertical-align: middle;'></progress>\n      [ 501/1000 1:51:38 < 1:51:38, 0.07 it/s, Epoch 0.40/1]\n    </div>\n    <table border=\"1\" class=\"dataframe\">\n  <thead>\n <tr style=\"text-align: left;\">\n      <th>Step</th>\n      <th>Training Loss</th>\n      <th>Validation Loss</th>\n    </tr>\n  </thead>\n  <tbody>\n    <tr>\n      <td>50</td>\n      <td>0.869400</td>\n      <td>0.773680</td>\n    </tr>\n    <tr>\n      <td>100</td>\n      <td>0.704200</td>\n      <td>0.717387</td>\n    </tr>\n    <tr>\n      <td>150</td>\n      <td>0.694400</td>\n      <td>0.675513</td>\n    </tr>\n    <tr>\n      <td>200</td>\n      <td>0.635200</td>\n      <td>0.590456</td>\n    </tr>\n    <tr>\n      <td>250</td>\n      <td>0.558000</td>\n      <td>0.498922</td>\n    </tr>\n    <tr>\n      <td>300</td>\n      <td>0.463600</td>\n      <td>0.404825</td>\n    </tr>\n    <tr>\n      <td>350</td>\n      <td>0.366500</td>\n      <td>0.323447</td>\n    </tr>\n    <tr>\n      <td>400</td>\n      <td>0.296800</td>\n      <td>0.258233</td>\n    </tr>\n    <tr>\n      <td>450</td>\n      <td>0.240900</td>\n      <td>0.207625</td>\n    </tr>\n    <tr>\n      <td>500</td>\n      <td>0.186500</td>\n      <td>0.171537</td>\n    </tr>\n  </tbody>\n</table><p>"
     },
     "metadata": {},
     "output_type": "display_data"
    },
    {
     "data": {
      "text/plain": "<IPython.core.display.HTML object>",
      "text/html": "\n    <div>\n      \n      <progress value='526' max='1000' style='width:300px; height:20px; vertical-align: middle;'></progress>\n      [ 526/1000 1:57:56 < 1:46:41, 0.07 it/s, Epoch 0.42/1]\n    </div>\n    <table border=\"1\" class=\"dataframe\">\n  <thead>\n <tr style=\"text-align: left;\">\n      <th>Step</th>\n      <th>Training Loss</th>\n      <th>Validation Loss</th>\n    </tr>\n  </thead>\n  <tbody>\n    <tr>\n      <td>50</td>\n      <td>0.869400</td>\n      <td>0.773680</td>\n    </tr>\n    <tr>\n      <td>100</td>\n      <td>0.704200</td>\n      <td>0.717387</td>\n    </tr>\n    <tr>\n      <td>150</td>\n      <td>0.694400</td>\n      <td>0.675513</td>\n    </tr>\n    <tr>\n      <td>200</td>\n      <td>0.635200</td>\n      <td>0.590456</td>\n    </tr>\n    <tr>\n      <td>250</td>\n      <td>0.558000</td>\n      <td>0.498922</td>\n    </tr>\n    <tr>\n      <td>300</td>\n      <td>0.463600</td>\n      <td>0.404825</td>\n    </tr>\n    <tr>\n      <td>350</td>\n      <td>0.366500</td>\n      <td>0.323447</td>\n    </tr>\n    <tr>\n      <td>400</td>\n      <td>0.296800</td>\n      <td>0.258233</td>\n    </tr>\n    <tr>\n      <td>450</td>\n      <td>0.240900</td>\n      <td>0.207625</td>\n    </tr>\n    <tr>\n      <td>500</td>\n      <td>0.186500</td>\n      <td>0.171537</td>\n    </tr>\n  </tbody>\n</table><p>"
     },
     "metadata": {},
     "output_type": "display_data"
    },
    {
     "data": {
      "text/plain": "<IPython.core.display.HTML object>",
      "text/html": "\n    <div>\n      \n      <progress value='551' max='1000' style='width:300px; height:20px; vertical-align: middle;'></progress>\n      [ 551/1000 2:02:56 < 1:40:32, 0.07 it/s, Epoch 0.44/1]\n    </div>\n    <table border=\"1\" class=\"dataframe\">\n  <thead>\n <tr style=\"text-align: left;\">\n      <th>Step</th>\n      <th>Training Loss</th>\n      <th>Validation Loss</th>\n    </tr>\n  </thead>\n  <tbody>\n    <tr>\n      <td>50</td>\n      <td>0.869400</td>\n      <td>0.773680</td>\n    </tr>\n    <tr>\n      <td>100</td>\n      <td>0.704200</td>\n      <td>0.717387</td>\n    </tr>\n    <tr>\n      <td>150</td>\n      <td>0.694400</td>\n      <td>0.675513</td>\n    </tr>\n    <tr>\n      <td>200</td>\n      <td>0.635200</td>\n      <td>0.590456</td>\n    </tr>\n    <tr>\n      <td>250</td>\n      <td>0.558000</td>\n      <td>0.498922</td>\n    </tr>\n    <tr>\n      <td>300</td>\n      <td>0.463600</td>\n      <td>0.404825</td>\n    </tr>\n    <tr>\n      <td>350</td>\n      <td>0.366500</td>\n      <td>0.323447</td>\n    </tr>\n    <tr>\n      <td>400</td>\n      <td>0.296800</td>\n      <td>0.258233</td>\n    </tr>\n    <tr>\n      <td>450</td>\n      <td>0.240900</td>\n      <td>0.207625</td>\n    </tr>\n    <tr>\n      <td>500</td>\n      <td>0.186500</td>\n      <td>0.171537</td>\n    </tr>\n    <tr>\n      <td>550</td>\n      <td>0.149500</td>\n      <td>0.144766</td>\n    </tr>\n  </tbody>\n</table><p>"
     },
     "metadata": {},
     "output_type": "display_data"
    },
    {
     "data": {
      "text/plain": "<IPython.core.display.HTML object>",
      "text/html": "\n    <div>\n      \n      <progress value='576' max='1000' style='width:300px; height:20px; vertical-align: middle;'></progress>\n      [ 576/1000 2:09:15 < 1:35:28, 0.07 it/s, Epoch 0.46/1]\n    </div>\n    <table border=\"1\" class=\"dataframe\">\n  <thead>\n <tr style=\"text-align: left;\">\n      <th>Step</th>\n      <th>Training Loss</th>\n      <th>Validation Loss</th>\n    </tr>\n  </thead>\n  <tbody>\n    <tr>\n      <td>50</td>\n      <td>0.869400</td>\n      <td>0.773680</td>\n    </tr>\n    <tr>\n      <td>100</td>\n      <td>0.704200</td>\n      <td>0.717387</td>\n    </tr>\n    <tr>\n      <td>150</td>\n      <td>0.694400</td>\n      <td>0.675513</td>\n    </tr>\n    <tr>\n      <td>200</td>\n      <td>0.635200</td>\n      <td>0.590456</td>\n    </tr>\n    <tr>\n      <td>250</td>\n      <td>0.558000</td>\n      <td>0.498922</td>\n    </tr>\n    <tr>\n      <td>300</td>\n      <td>0.463600</td>\n      <td>0.404825</td>\n    </tr>\n    <tr>\n      <td>350</td>\n      <td>0.366500</td>\n      <td>0.323447</td>\n    </tr>\n    <tr>\n      <td>400</td>\n      <td>0.296800</td>\n      <td>0.258233</td>\n    </tr>\n    <tr>\n      <td>450</td>\n      <td>0.240900</td>\n      <td>0.207625</td>\n    </tr>\n    <tr>\n      <td>500</td>\n      <td>0.186500</td>\n      <td>0.171537</td>\n    </tr>\n    <tr>\n      <td>550</td>\n      <td>0.149500</td>\n      <td>0.144766</td>\n    </tr>\n  </tbody>\n</table><p>"
     },
     "metadata": {},
     "output_type": "display_data"
    },
    {
     "data": {
      "text/plain": "<IPython.core.display.HTML object>",
      "text/html": "\n    <div>\n      \n      <progress value='601' max='1000' style='width:300px; height:20px; vertical-align: middle;'></progress>\n      [ 601/1000 2:14:15 < 1:29:25, 0.07 it/s, Epoch 0.48/1]\n    </div>\n    <table border=\"1\" class=\"dataframe\">\n  <thead>\n <tr style=\"text-align: left;\">\n      <th>Step</th>\n      <th>Training Loss</th>\n      <th>Validation Loss</th>\n    </tr>\n  </thead>\n  <tbody>\n    <tr>\n      <td>50</td>\n      <td>0.869400</td>\n      <td>0.773680</td>\n    </tr>\n    <tr>\n      <td>100</td>\n      <td>0.704200</td>\n      <td>0.717387</td>\n    </tr>\n    <tr>\n      <td>150</td>\n      <td>0.694400</td>\n      <td>0.675513</td>\n    </tr>\n    <tr>\n      <td>200</td>\n      <td>0.635200</td>\n      <td>0.590456</td>\n    </tr>\n    <tr>\n      <td>250</td>\n      <td>0.558000</td>\n      <td>0.498922</td>\n    </tr>\n    <tr>\n      <td>300</td>\n      <td>0.463600</td>\n      <td>0.404825</td>\n    </tr>\n    <tr>\n      <td>350</td>\n      <td>0.366500</td>\n      <td>0.323447</td>\n    </tr>\n    <tr>\n      <td>400</td>\n      <td>0.296800</td>\n      <td>0.258233</td>\n    </tr>\n    <tr>\n      <td>450</td>\n      <td>0.240900</td>\n      <td>0.207625</td>\n    </tr>\n    <tr>\n      <td>500</td>\n      <td>0.186500</td>\n      <td>0.171537</td>\n    </tr>\n    <tr>\n      <td>550</td>\n      <td>0.149500</td>\n      <td>0.144766</td>\n    </tr>\n    <tr>\n      <td>600</td>\n      <td>0.133400</td>\n      <td>0.128769</td>\n    </tr>\n  </tbody>\n</table><p>"
     },
     "metadata": {},
     "output_type": "display_data"
    },
    {
     "data": {
      "text/plain": "<IPython.core.display.HTML object>",
      "text/html": "\n    <div>\n      \n      <progress value='626' max='1000' style='width:300px; height:20px; vertical-align: middle;'></progress>\n      [ 626/1000 2:20:33 < 1:24:14, 0.07 it/s, Epoch 0.50/1]\n    </div>\n    <table border=\"1\" class=\"dataframe\">\n  <thead>\n <tr style=\"text-align: left;\">\n      <th>Step</th>\n      <th>Training Loss</th>\n      <th>Validation Loss</th>\n    </tr>\n  </thead>\n  <tbody>\n    <tr>\n      <td>50</td>\n      <td>0.869400</td>\n      <td>0.773680</td>\n    </tr>\n    <tr>\n      <td>100</td>\n      <td>0.704200</td>\n      <td>0.717387</td>\n    </tr>\n    <tr>\n      <td>150</td>\n      <td>0.694400</td>\n      <td>0.675513</td>\n    </tr>\n    <tr>\n      <td>200</td>\n      <td>0.635200</td>\n      <td>0.590456</td>\n    </tr>\n    <tr>\n      <td>250</td>\n      <td>0.558000</td>\n      <td>0.498922</td>\n    </tr>\n    <tr>\n      <td>300</td>\n      <td>0.463600</td>\n      <td>0.404825</td>\n    </tr>\n    <tr>\n      <td>350</td>\n      <td>0.366500</td>\n      <td>0.323447</td>\n    </tr>\n    <tr>\n      <td>400</td>\n      <td>0.296800</td>\n      <td>0.258233</td>\n    </tr>\n    <tr>\n      <td>450</td>\n      <td>0.240900</td>\n      <td>0.207625</td>\n    </tr>\n    <tr>\n      <td>500</td>\n      <td>0.186500</td>\n      <td>0.171537</td>\n    </tr>\n    <tr>\n      <td>550</td>\n      <td>0.149500</td>\n      <td>0.144766</td>\n    </tr>\n    <tr>\n      <td>600</td>\n      <td>0.133400</td>\n      <td>0.128769</td>\n    </tr>\n  </tbody>\n</table><p>"
     },
     "metadata": {},
     "output_type": "display_data"
    },
    {
     "data": {
      "text/plain": "<IPython.core.display.HTML object>",
      "text/html": "\n    <div>\n      \n      <progress value='651' max='1000' style='width:300px; height:20px; vertical-align: middle;'></progress>\n      [ 651/1000 2:25:33 < 1:18:16, 0.07 it/s, Epoch 0.52/1]\n    </div>\n    <table border=\"1\" class=\"dataframe\">\n  <thead>\n <tr style=\"text-align: left;\">\n      <th>Step</th>\n      <th>Training Loss</th>\n      <th>Validation Loss</th>\n    </tr>\n  </thead>\n  <tbody>\n    <tr>\n      <td>50</td>\n      <td>0.869400</td>\n      <td>0.773680</td>\n    </tr>\n    <tr>\n      <td>100</td>\n      <td>0.704200</td>\n      <td>0.717387</td>\n    </tr>\n    <tr>\n      <td>150</td>\n      <td>0.694400</td>\n      <td>0.675513</td>\n    </tr>\n    <tr>\n      <td>200</td>\n      <td>0.635200</td>\n      <td>0.590456</td>\n    </tr>\n    <tr>\n      <td>250</td>\n      <td>0.558000</td>\n      <td>0.498922</td>\n    </tr>\n    <tr>\n      <td>300</td>\n      <td>0.463600</td>\n      <td>0.404825</td>\n    </tr>\n    <tr>\n      <td>350</td>\n      <td>0.366500</td>\n      <td>0.323447</td>\n    </tr>\n    <tr>\n      <td>400</td>\n      <td>0.296800</td>\n      <td>0.258233</td>\n    </tr>\n    <tr>\n      <td>450</td>\n      <td>0.240900</td>\n      <td>0.207625</td>\n    </tr>\n    <tr>\n      <td>500</td>\n      <td>0.186500</td>\n      <td>0.171537</td>\n    </tr>\n    <tr>\n      <td>550</td>\n      <td>0.149500</td>\n      <td>0.144766</td>\n    </tr>\n    <tr>\n      <td>600</td>\n      <td>0.133400</td>\n      <td>0.128769</td>\n    </tr>\n    <tr>\n      <td>650</td>\n      <td>0.112200</td>\n      <td>0.115681</td>\n    </tr>\n  </tbody>\n</table><p>"
     },
     "metadata": {},
     "output_type": "display_data"
    },
    {
     "data": {
      "text/plain": "<IPython.core.display.HTML object>",
      "text/html": "\n    <div>\n      \n      <progress value='676' max='1000' style='width:300px; height:20px; vertical-align: middle;'></progress>\n      [ 676/1000 2:31:55 < 1:13:01, 0.07 it/s, Epoch 0.54/1]\n    </div>\n    <table border=\"1\" class=\"dataframe\">\n  <thead>\n <tr style=\"text-align: left;\">\n      <th>Step</th>\n      <th>Training Loss</th>\n      <th>Validation Loss</th>\n    </tr>\n  </thead>\n  <tbody>\n    <tr>\n      <td>50</td>\n      <td>0.869400</td>\n      <td>0.773680</td>\n    </tr>\n    <tr>\n      <td>100</td>\n      <td>0.704200</td>\n      <td>0.717387</td>\n    </tr>\n    <tr>\n      <td>150</td>\n      <td>0.694400</td>\n      <td>0.675513</td>\n    </tr>\n    <tr>\n      <td>200</td>\n      <td>0.635200</td>\n      <td>0.590456</td>\n    </tr>\n    <tr>\n      <td>250</td>\n      <td>0.558000</td>\n      <td>0.498922</td>\n    </tr>\n    <tr>\n      <td>300</td>\n      <td>0.463600</td>\n      <td>0.404825</td>\n    </tr>\n    <tr>\n      <td>350</td>\n      <td>0.366500</td>\n      <td>0.323447</td>\n    </tr>\n    <tr>\n      <td>400</td>\n      <td>0.296800</td>\n      <td>0.258233</td>\n    </tr>\n    <tr>\n      <td>450</td>\n      <td>0.240900</td>\n      <td>0.207625</td>\n    </tr>\n    <tr>\n      <td>500</td>\n      <td>0.186500</td>\n      <td>0.171537</td>\n    </tr>\n    <tr>\n      <td>550</td>\n      <td>0.149500</td>\n      <td>0.144766</td>\n    </tr>\n    <tr>\n      <td>600</td>\n      <td>0.133400</td>\n      <td>0.128769</td>\n    </tr>\n    <tr>\n      <td>650</td>\n      <td>0.112200</td>\n      <td>0.115681</td>\n    </tr>\n  </tbody>\n</table><p>"
     },
     "metadata": {},
     "output_type": "display_data"
    },
    {
     "data": {
      "text/plain": "<IPython.core.display.HTML object>",
      "text/html": "\n    <div>\n      \n      <progress value='701' max='1000' style='width:300px; height:20px; vertical-align: middle;'></progress>\n      [ 701/1000 2:36:55 < 1:07:07, 0.07 it/s, Epoch 0.56/1]\n    </div>\n    <table border=\"1\" class=\"dataframe\">\n  <thead>\n <tr style=\"text-align: left;\">\n      <th>Step</th>\n      <th>Training Loss</th>\n      <th>Validation Loss</th>\n    </tr>\n  </thead>\n  <tbody>\n    <tr>\n      <td>50</td>\n      <td>0.869400</td>\n      <td>0.773680</td>\n    </tr>\n    <tr>\n      <td>100</td>\n      <td>0.704200</td>\n      <td>0.717387</td>\n    </tr>\n    <tr>\n      <td>150</td>\n      <td>0.694400</td>\n      <td>0.675513</td>\n    </tr>\n    <tr>\n      <td>200</td>\n      <td>0.635200</td>\n      <td>0.590456</td>\n    </tr>\n    <tr>\n      <td>250</td>\n      <td>0.558000</td>\n      <td>0.498922</td>\n    </tr>\n    <tr>\n      <td>300</td>\n      <td>0.463600</td>\n      <td>0.404825</td>\n    </tr>\n    <tr>\n      <td>350</td>\n      <td>0.366500</td>\n      <td>0.323447</td>\n    </tr>\n    <tr>\n      <td>400</td>\n      <td>0.296800</td>\n      <td>0.258233</td>\n    </tr>\n    <tr>\n      <td>450</td>\n      <td>0.240900</td>\n      <td>0.207625</td>\n    </tr>\n    <tr>\n      <td>500</td>\n      <td>0.186500</td>\n      <td>0.171537</td>\n    </tr>\n    <tr>\n      <td>550</td>\n      <td>0.149500</td>\n      <td>0.144766</td>\n    </tr>\n    <tr>\n      <td>600</td>\n      <td>0.133400</td>\n      <td>0.128769</td>\n    </tr>\n    <tr>\n      <td>650</td>\n      <td>0.112200</td>\n      <td>0.115681</td>\n    </tr>\n    <tr>\n      <td>700</td>\n      <td>0.101100</td>\n      <td>0.104698</td>\n    </tr>\n  </tbody>\n</table><p>"
     },
     "metadata": {},
     "output_type": "display_data"
    },
    {
     "data": {
      "text/plain": "<IPython.core.display.HTML object>",
      "text/html": "\n    <div>\n      \n      <progress value='726' max='1000' style='width:300px; height:20px; vertical-align: middle;'></progress>\n      [ 726/1000 2:43:13 < 1:01:46, 0.07 it/s, Epoch 0.58/1]\n    </div>\n    <table border=\"1\" class=\"dataframe\">\n  <thead>\n <tr style=\"text-align: left;\">\n      <th>Step</th>\n      <th>Training Loss</th>\n      <th>Validation Loss</th>\n    </tr>\n  </thead>\n  <tbody>\n    <tr>\n      <td>50</td>\n      <td>0.869400</td>\n      <td>0.773680</td>\n    </tr>\n    <tr>\n      <td>100</td>\n      <td>0.704200</td>\n      <td>0.717387</td>\n    </tr>\n    <tr>\n      <td>150</td>\n      <td>0.694400</td>\n      <td>0.675513</td>\n    </tr>\n    <tr>\n      <td>200</td>\n      <td>0.635200</td>\n      <td>0.590456</td>\n    </tr>\n    <tr>\n      <td>250</td>\n      <td>0.558000</td>\n      <td>0.498922</td>\n    </tr>\n    <tr>\n      <td>300</td>\n      <td>0.463600</td>\n      <td>0.404825</td>\n    </tr>\n    <tr>\n      <td>350</td>\n      <td>0.366500</td>\n      <td>0.323447</td>\n    </tr>\n    <tr>\n      <td>400</td>\n      <td>0.296800</td>\n      <td>0.258233</td>\n    </tr>\n    <tr>\n      <td>450</td>\n      <td>0.240900</td>\n      <td>0.207625</td>\n    </tr>\n    <tr>\n      <td>500</td>\n      <td>0.186500</td>\n      <td>0.171537</td>\n    </tr>\n    <tr>\n      <td>550</td>\n      <td>0.149500</td>\n      <td>0.144766</td>\n    </tr>\n    <tr>\n      <td>600</td>\n      <td>0.133400</td>\n      <td>0.128769</td>\n    </tr>\n    <tr>\n      <td>650</td>\n      <td>0.112200</td>\n      <td>0.115681</td>\n    </tr>\n    <tr>\n      <td>700</td>\n      <td>0.101100</td>\n      <td>0.104698</td>\n    </tr>\n  </tbody>\n</table><p>"
     },
     "metadata": {},
     "output_type": "display_data"
    },
    {
     "data": {
      "text/plain": "<IPython.core.display.HTML object>",
      "text/html": "\n    <div>\n      \n      <progress value='751' max='1000' style='width:300px; height:20px; vertical-align: middle;'></progress>\n      [ 751/1000 2:48:13 < 55:55, 0.07 it/s, Epoch 0.60/1]\n    </div>\n    <table border=\"1\" class=\"dataframe\">\n  <thead>\n <tr style=\"text-align: left;\">\n      <th>Step</th>\n      <th>Training Loss</th>\n      <th>Validation Loss</th>\n    </tr>\n  </thead>\n  <tbody>\n    <tr>\n      <td>50</td>\n      <td>0.869400</td>\n      <td>0.773680</td>\n    </tr>\n    <tr>\n      <td>100</td>\n      <td>0.704200</td>\n      <td>0.717387</td>\n    </tr>\n    <tr>\n      <td>150</td>\n      <td>0.694400</td>\n      <td>0.675513</td>\n    </tr>\n    <tr>\n      <td>200</td>\n      <td>0.635200</td>\n      <td>0.590456</td>\n    </tr>\n    <tr>\n      <td>250</td>\n      <td>0.558000</td>\n      <td>0.498922</td>\n    </tr>\n    <tr>\n      <td>300</td>\n      <td>0.463600</td>\n      <td>0.404825</td>\n    </tr>\n    <tr>\n      <td>350</td>\n      <td>0.366500</td>\n      <td>0.323447</td>\n    </tr>\n    <tr>\n      <td>400</td>\n      <td>0.296800</td>\n      <td>0.258233</td>\n    </tr>\n    <tr>\n      <td>450</td>\n      <td>0.240900</td>\n      <td>0.207625</td>\n    </tr>\n    <tr>\n      <td>500</td>\n      <td>0.186500</td>\n      <td>0.171537</td>\n    </tr>\n    <tr>\n      <td>550</td>\n      <td>0.149500</td>\n      <td>0.144766</td>\n    </tr>\n    <tr>\n      <td>600</td>\n      <td>0.133400</td>\n      <td>0.128769</td>\n    </tr>\n    <tr>\n      <td>650</td>\n      <td>0.112200</td>\n      <td>0.115681</td>\n    </tr>\n    <tr>\n      <td>700</td>\n      <td>0.101100</td>\n      <td>0.104698</td>\n    </tr>\n    <tr>\n      <td>750</td>\n      <td>0.093300</td>\n      <td>0.097882</td>\n    </tr>\n  </tbody>\n</table><p>"
     },
     "metadata": {},
     "output_type": "display_data"
    },
    {
     "data": {
      "text/plain": "<IPython.core.display.HTML object>",
      "text/html": "\n    <div>\n      \n      <progress value='776' max='1000' style='width:300px; height:20px; vertical-align: middle;'></progress>\n      [ 776/1000 2:54:32 < 50:30, 0.07 it/s, Epoch 0.62/1]\n    </div>\n    <table border=\"1\" class=\"dataframe\">\n  <thead>\n <tr style=\"text-align: left;\">\n      <th>Step</th>\n      <th>Training Loss</th>\n      <th>Validation Loss</th>\n    </tr>\n  </thead>\n  <tbody>\n    <tr>\n      <td>50</td>\n      <td>0.869400</td>\n      <td>0.773680</td>\n    </tr>\n    <tr>\n      <td>100</td>\n      <td>0.704200</td>\n      <td>0.717387</td>\n    </tr>\n    <tr>\n      <td>150</td>\n      <td>0.694400</td>\n      <td>0.675513</td>\n    </tr>\n    <tr>\n      <td>200</td>\n      <td>0.635200</td>\n      <td>0.590456</td>\n    </tr>\n    <tr>\n      <td>250</td>\n      <td>0.558000</td>\n      <td>0.498922</td>\n    </tr>\n    <tr>\n      <td>300</td>\n      <td>0.463600</td>\n      <td>0.404825</td>\n    </tr>\n    <tr>\n      <td>350</td>\n      <td>0.366500</td>\n      <td>0.323447</td>\n    </tr>\n    <tr>\n      <td>400</td>\n      <td>0.296800</td>\n      <td>0.258233</td>\n    </tr>\n    <tr>\n      <td>450</td>\n      <td>0.240900</td>\n      <td>0.207625</td>\n    </tr>\n    <tr>\n      <td>500</td>\n      <td>0.186500</td>\n      <td>0.171537</td>\n    </tr>\n    <tr>\n      <td>550</td>\n      <td>0.149500</td>\n      <td>0.144766</td>\n    </tr>\n    <tr>\n      <td>600</td>\n      <td>0.133400</td>\n      <td>0.128769</td>\n    </tr>\n    <tr>\n      <td>650</td>\n      <td>0.112200</td>\n      <td>0.115681</td>\n    </tr>\n    <tr>\n      <td>700</td>\n      <td>0.101100</td>\n      <td>0.104698</td>\n    </tr>\n    <tr>\n      <td>750</td>\n      <td>0.093300</td>\n      <td>0.097882</td>\n    </tr>\n  </tbody>\n</table><p>"
     },
     "metadata": {},
     "output_type": "display_data"
    },
    {
     "data": {
      "text/plain": "<IPython.core.display.HTML object>",
      "text/html": "\n    <div>\n      \n      <progress value='801' max='1000' style='width:300px; height:20px; vertical-align: middle;'></progress>\n      [ 801/1000 2:59:32 < 44:42, 0.07 it/s, Epoch 0.64/1]\n    </div>\n    <table border=\"1\" class=\"dataframe\">\n  <thead>\n <tr style=\"text-align: left;\">\n      <th>Step</th>\n      <th>Training Loss</th>\n      <th>Validation Loss</th>\n    </tr>\n  </thead>\n  <tbody>\n    <tr>\n      <td>50</td>\n      <td>0.869400</td>\n      <td>0.773680</td>\n    </tr>\n    <tr>\n      <td>100</td>\n      <td>0.704200</td>\n      <td>0.717387</td>\n    </tr>\n    <tr>\n      <td>150</td>\n      <td>0.694400</td>\n      <td>0.675513</td>\n    </tr>\n    <tr>\n      <td>200</td>\n      <td>0.635200</td>\n      <td>0.590456</td>\n    </tr>\n    <tr>\n      <td>250</td>\n      <td>0.558000</td>\n      <td>0.498922</td>\n    </tr>\n    <tr>\n      <td>300</td>\n      <td>0.463600</td>\n      <td>0.404825</td>\n    </tr>\n    <tr>\n      <td>350</td>\n      <td>0.366500</td>\n      <td>0.323447</td>\n    </tr>\n    <tr>\n      <td>400</td>\n      <td>0.296800</td>\n      <td>0.258233</td>\n    </tr>\n    <tr>\n      <td>450</td>\n      <td>0.240900</td>\n      <td>0.207625</td>\n    </tr>\n    <tr>\n      <td>500</td>\n      <td>0.186500</td>\n      <td>0.171537</td>\n    </tr>\n    <tr>\n      <td>550</td>\n      <td>0.149500</td>\n      <td>0.144766</td>\n    </tr>\n    <tr>\n      <td>600</td>\n      <td>0.133400</td>\n      <td>0.128769</td>\n    </tr>\n    <tr>\n      <td>650</td>\n      <td>0.112200</td>\n      <td>0.115681</td>\n    </tr>\n    <tr>\n      <td>700</td>\n      <td>0.101100</td>\n      <td>0.104698</td>\n    </tr>\n    <tr>\n      <td>750</td>\n      <td>0.093300</td>\n      <td>0.097882</td>\n    </tr>\n    <tr>\n      <td>800</td>\n      <td>0.086100</td>\n      <td>0.090882</td>\n    </tr>\n  </tbody>\n</table><p>"
     },
     "metadata": {},
     "output_type": "display_data"
    },
    {
     "data": {
      "text/plain": "<IPython.core.display.HTML object>",
      "text/html": "\n    <div>\n      \n      <progress value='826' max='1000' style='width:300px; height:20px; vertical-align: middle;'></progress>\n      [ 826/1000 3:05:50 < 39:14, 0.07 it/s, Epoch 0.66/1]\n    </div>\n    <table border=\"1\" class=\"dataframe\">\n  <thead>\n <tr style=\"text-align: left;\">\n      <th>Step</th>\n      <th>Training Loss</th>\n      <th>Validation Loss</th>\n    </tr>\n  </thead>\n  <tbody>\n    <tr>\n      <td>50</td>\n      <td>0.869400</td>\n      <td>0.773680</td>\n    </tr>\n    <tr>\n      <td>100</td>\n      <td>0.704200</td>\n      <td>0.717387</td>\n    </tr>\n    <tr>\n      <td>150</td>\n      <td>0.694400</td>\n      <td>0.675513</td>\n    </tr>\n    <tr>\n      <td>200</td>\n      <td>0.635200</td>\n      <td>0.590456</td>\n    </tr>\n    <tr>\n      <td>250</td>\n      <td>0.558000</td>\n      <td>0.498922</td>\n    </tr>\n    <tr>\n      <td>300</td>\n      <td>0.463600</td>\n      <td>0.404825</td>\n    </tr>\n    <tr>\n      <td>350</td>\n      <td>0.366500</td>\n      <td>0.323447</td>\n    </tr>\n    <tr>\n      <td>400</td>\n      <td>0.296800</td>\n      <td>0.258233</td>\n    </tr>\n    <tr>\n      <td>450</td>\n      <td>0.240900</td>\n      <td>0.207625</td>\n    </tr>\n    <tr>\n      <td>500</td>\n      <td>0.186500</td>\n      <td>0.171537</td>\n    </tr>\n    <tr>\n      <td>550</td>\n      <td>0.149500</td>\n      <td>0.144766</td>\n    </tr>\n    <tr>\n      <td>600</td>\n      <td>0.133400</td>\n      <td>0.128769</td>\n    </tr>\n    <tr>\n      <td>650</td>\n      <td>0.112200</td>\n      <td>0.115681</td>\n    </tr>\n    <tr>\n      <td>700</td>\n      <td>0.101100</td>\n      <td>0.104698</td>\n    </tr>\n    <tr>\n      <td>750</td>\n      <td>0.093300</td>\n      <td>0.097882</td>\n    </tr>\n    <tr>\n      <td>800</td>\n      <td>0.086100</td>\n      <td>0.090882</td>\n    </tr>\n  </tbody>\n</table><p>"
     },
     "metadata": {},
     "output_type": "display_data"
    },
    {
     "data": {
      "text/plain": "<IPython.core.display.HTML object>",
      "text/html": "\n    <div>\n      \n      <progress value='851' max='1000' style='width:300px; height:20px; vertical-align: middle;'></progress>\n      [ 851/1000 3:10:50 < 33:29, 0.07 it/s, Epoch 0.68/1]\n    </div>\n    <table border=\"1\" class=\"dataframe\">\n  <thead>\n <tr style=\"text-align: left;\">\n      <th>Step</th>\n      <th>Training Loss</th>\n      <th>Validation Loss</th>\n    </tr>\n  </thead>\n  <tbody>\n    <tr>\n      <td>50</td>\n      <td>0.869400</td>\n      <td>0.773680</td>\n    </tr>\n    <tr>\n      <td>100</td>\n      <td>0.704200</td>\n      <td>0.717387</td>\n    </tr>\n    <tr>\n      <td>150</td>\n      <td>0.694400</td>\n      <td>0.675513</td>\n    </tr>\n    <tr>\n      <td>200</td>\n      <td>0.635200</td>\n      <td>0.590456</td>\n    </tr>\n    <tr>\n      <td>250</td>\n      <td>0.558000</td>\n      <td>0.498922</td>\n    </tr>\n    <tr>\n      <td>300</td>\n      <td>0.463600</td>\n      <td>0.404825</td>\n    </tr>\n    <tr>\n      <td>350</td>\n      <td>0.366500</td>\n      <td>0.323447</td>\n    </tr>\n    <tr>\n      <td>400</td>\n      <td>0.296800</td>\n      <td>0.258233</td>\n    </tr>\n    <tr>\n      <td>450</td>\n      <td>0.240900</td>\n      <td>0.207625</td>\n    </tr>\n    <tr>\n      <td>500</td>\n      <td>0.186500</td>\n      <td>0.171537</td>\n    </tr>\n    <tr>\n      <td>550</td>\n      <td>0.149500</td>\n      <td>0.144766</td>\n    </tr>\n    <tr>\n      <td>600</td>\n      <td>0.133400</td>\n      <td>0.128769</td>\n    </tr>\n    <tr>\n      <td>650</td>\n      <td>0.112200</td>\n      <td>0.115681</td>\n    </tr>\n    <tr>\n      <td>700</td>\n      <td>0.101100</td>\n      <td>0.104698</td>\n    </tr>\n    <tr>\n      <td>750</td>\n      <td>0.093300</td>\n      <td>0.097882</td>\n    </tr>\n    <tr>\n      <td>800</td>\n      <td>0.086100</td>\n      <td>0.090882</td>\n    </tr>\n    <tr>\n      <td>850</td>\n      <td>0.081300</td>\n      <td>0.086206</td>\n    </tr>\n  </tbody>\n</table><p>"
     },
     "metadata": {},
     "output_type": "display_data"
    },
    {
     "data": {
      "text/plain": "<IPython.core.display.HTML object>",
      "text/html": "\n    <div>\n      \n      <progress value='876' max='1000' style='width:300px; height:20px; vertical-align: middle;'></progress>\n      [ 876/1000 3:17:09 < 27:58, 0.07 it/s, Epoch 0.70/1]\n    </div>\n    <table border=\"1\" class=\"dataframe\">\n  <thead>\n <tr style=\"text-align: left;\">\n      <th>Step</th>\n      <th>Training Loss</th>\n      <th>Validation Loss</th>\n    </tr>\n  </thead>\n  <tbody>\n    <tr>\n      <td>50</td>\n      <td>0.869400</td>\n      <td>0.773680</td>\n    </tr>\n    <tr>\n      <td>100</td>\n      <td>0.704200</td>\n      <td>0.717387</td>\n    </tr>\n    <tr>\n      <td>150</td>\n      <td>0.694400</td>\n      <td>0.675513</td>\n    </tr>\n    <tr>\n      <td>200</td>\n      <td>0.635200</td>\n      <td>0.590456</td>\n    </tr>\n    <tr>\n      <td>250</td>\n      <td>0.558000</td>\n      <td>0.498922</td>\n    </tr>\n    <tr>\n      <td>300</td>\n      <td>0.463600</td>\n      <td>0.404825</td>\n    </tr>\n    <tr>\n      <td>350</td>\n      <td>0.366500</td>\n      <td>0.323447</td>\n    </tr>\n    <tr>\n      <td>400</td>\n      <td>0.296800</td>\n      <td>0.258233</td>\n    </tr>\n    <tr>\n      <td>450</td>\n      <td>0.240900</td>\n      <td>0.207625</td>\n    </tr>\n    <tr>\n      <td>500</td>\n      <td>0.186500</td>\n      <td>0.171537</td>\n    </tr>\n    <tr>\n      <td>550</td>\n      <td>0.149500</td>\n      <td>0.144766</td>\n    </tr>\n    <tr>\n      <td>600</td>\n      <td>0.133400</td>\n      <td>0.128769</td>\n    </tr>\n    <tr>\n      <td>650</td>\n      <td>0.112200</td>\n      <td>0.115681</td>\n    </tr>\n    <tr>\n      <td>700</td>\n      <td>0.101100</td>\n      <td>0.104698</td>\n    </tr>\n    <tr>\n      <td>750</td>\n      <td>0.093300</td>\n      <td>0.097882</td>\n    </tr>\n    <tr>\n      <td>800</td>\n      <td>0.086100</td>\n      <td>0.090882</td>\n    </tr>\n    <tr>\n      <td>850</td>\n      <td>0.081300</td>\n      <td>0.086206</td>\n    </tr>\n  </tbody>\n</table><p>"
     },
     "metadata": {},
     "output_type": "display_data"
    },
    {
     "data": {
      "text/plain": "<IPython.core.display.HTML object>",
      "text/html": "\n    <div>\n      \n      <progress value='901' max='1000' style='width:300px; height:20px; vertical-align: middle;'></progress>\n      [ 901/1000 3:22:09 < 22:15, 0.07 it/s, Epoch 0.72/1]\n    </div>\n    <table border=\"1\" class=\"dataframe\">\n  <thead>\n <tr style=\"text-align: left;\">\n      <th>Step</th>\n      <th>Training Loss</th>\n      <th>Validation Loss</th>\n    </tr>\n  </thead>\n  <tbody>\n    <tr>\n      <td>50</td>\n      <td>0.869400</td>\n      <td>0.773680</td>\n    </tr>\n    <tr>\n      <td>100</td>\n      <td>0.704200</td>\n      <td>0.717387</td>\n    </tr>\n    <tr>\n      <td>150</td>\n      <td>0.694400</td>\n      <td>0.675513</td>\n    </tr>\n    <tr>\n      <td>200</td>\n      <td>0.635200</td>\n      <td>0.590456</td>\n    </tr>\n    <tr>\n      <td>250</td>\n      <td>0.558000</td>\n      <td>0.498922</td>\n    </tr>\n    <tr>\n      <td>300</td>\n      <td>0.463600</td>\n      <td>0.404825</td>\n    </tr>\n    <tr>\n      <td>350</td>\n      <td>0.366500</td>\n      <td>0.323447</td>\n    </tr>\n    <tr>\n      <td>400</td>\n      <td>0.296800</td>\n      <td>0.258233</td>\n    </tr>\n    <tr>\n      <td>450</td>\n      <td>0.240900</td>\n      <td>0.207625</td>\n    </tr>\n    <tr>\n      <td>500</td>\n      <td>0.186500</td>\n      <td>0.171537</td>\n    </tr>\n    <tr>\n      <td>550</td>\n      <td>0.149500</td>\n      <td>0.144766</td>\n    </tr>\n    <tr>\n      <td>600</td>\n      <td>0.133400</td>\n      <td>0.128769</td>\n    </tr>\n    <tr>\n      <td>650</td>\n      <td>0.112200</td>\n      <td>0.115681</td>\n    </tr>\n    <tr>\n      <td>700</td>\n      <td>0.101100</td>\n      <td>0.104698</td>\n    </tr>\n    <tr>\n      <td>750</td>\n      <td>0.093300</td>\n      <td>0.097882</td>\n    </tr>\n    <tr>\n      <td>800</td>\n      <td>0.086100</td>\n      <td>0.090882</td>\n    </tr>\n    <tr>\n      <td>850</td>\n      <td>0.081300</td>\n      <td>0.086206</td>\n    </tr>\n    <tr>\n      <td>900</td>\n      <td>0.074100</td>\n      <td>0.083584</td>\n    </tr>\n  </tbody>\n</table><p>"
     },
     "metadata": {},
     "output_type": "display_data"
    },
    {
     "data": {
      "text/plain": "<IPython.core.display.HTML object>",
      "text/html": "\n    <div>\n      \n      <progress value='926' max='1000' style='width:300px; height:20px; vertical-align: middle;'></progress>\n      [ 926/1000 3:28:27 < 16:41, 0.07 it/s, Epoch 0.74/1]\n    </div>\n    <table border=\"1\" class=\"dataframe\">\n  <thead>\n <tr style=\"text-align: left;\">\n      <th>Step</th>\n      <th>Training Loss</th>\n      <th>Validation Loss</th>\n    </tr>\n  </thead>\n  <tbody>\n    <tr>\n      <td>50</td>\n      <td>0.869400</td>\n      <td>0.773680</td>\n    </tr>\n    <tr>\n      <td>100</td>\n      <td>0.704200</td>\n      <td>0.717387</td>\n    </tr>\n    <tr>\n      <td>150</td>\n      <td>0.694400</td>\n      <td>0.675513</td>\n    </tr>\n    <tr>\n      <td>200</td>\n      <td>0.635200</td>\n      <td>0.590456</td>\n    </tr>\n    <tr>\n      <td>250</td>\n      <td>0.558000</td>\n      <td>0.498922</td>\n    </tr>\n    <tr>\n      <td>300</td>\n      <td>0.463600</td>\n      <td>0.404825</td>\n    </tr>\n    <tr>\n      <td>350</td>\n      <td>0.366500</td>\n      <td>0.323447</td>\n    </tr>\n    <tr>\n      <td>400</td>\n      <td>0.296800</td>\n      <td>0.258233</td>\n    </tr>\n    <tr>\n      <td>450</td>\n      <td>0.240900</td>\n      <td>0.207625</td>\n    </tr>\n    <tr>\n      <td>500</td>\n      <td>0.186500</td>\n      <td>0.171537</td>\n    </tr>\n    <tr>\n      <td>550</td>\n      <td>0.149500</td>\n      <td>0.144766</td>\n    </tr>\n    <tr>\n      <td>600</td>\n      <td>0.133400</td>\n      <td>0.128769</td>\n    </tr>\n    <tr>\n      <td>650</td>\n      <td>0.112200</td>\n      <td>0.115681</td>\n    </tr>\n    <tr>\n      <td>700</td>\n      <td>0.101100</td>\n      <td>0.104698</td>\n    </tr>\n    <tr>\n      <td>750</td>\n      <td>0.093300</td>\n      <td>0.097882</td>\n    </tr>\n    <tr>\n      <td>800</td>\n      <td>0.086100</td>\n      <td>0.090882</td>\n    </tr>\n    <tr>\n      <td>850</td>\n      <td>0.081300</td>\n      <td>0.086206</td>\n    </tr>\n    <tr>\n      <td>900</td>\n      <td>0.074100</td>\n      <td>0.083584</td>\n    </tr>\n  </tbody>\n</table><p>"
     },
     "metadata": {},
     "output_type": "display_data"
    },
    {
     "data": {
      "text/plain": "<IPython.core.display.HTML object>",
      "text/html": "\n    <div>\n      \n      <progress value='951' max='1000' style='width:300px; height:20px; vertical-align: middle;'></progress>\n      [ 951/1000 3:33:28 < 11:01, 0.07 it/s, Epoch 0.76/1]\n    </div>\n    <table border=\"1\" class=\"dataframe\">\n  <thead>\n <tr style=\"text-align: left;\">\n      <th>Step</th>\n      <th>Training Loss</th>\n      <th>Validation Loss</th>\n    </tr>\n  </thead>\n  <tbody>\n    <tr>\n      <td>50</td>\n      <td>0.869400</td>\n      <td>0.773680</td>\n    </tr>\n    <tr>\n      <td>100</td>\n      <td>0.704200</td>\n      <td>0.717387</td>\n    </tr>\n    <tr>\n      <td>150</td>\n      <td>0.694400</td>\n      <td>0.675513</td>\n    </tr>\n    <tr>\n      <td>200</td>\n      <td>0.635200</td>\n      <td>0.590456</td>\n    </tr>\n    <tr>\n      <td>250</td>\n      <td>0.558000</td>\n      <td>0.498922</td>\n    </tr>\n    <tr>\n      <td>300</td>\n      <td>0.463600</td>\n      <td>0.404825</td>\n    </tr>\n    <tr>\n      <td>350</td>\n      <td>0.366500</td>\n      <td>0.323447</td>\n    </tr>\n    <tr>\n      <td>400</td>\n      <td>0.296800</td>\n      <td>0.258233</td>\n    </tr>\n    <tr>\n      <td>450</td>\n      <td>0.240900</td>\n      <td>0.207625</td>\n    </tr>\n    <tr>\n      <td>500</td>\n      <td>0.186500</td>\n      <td>0.171537</td>\n    </tr>\n    <tr>\n      <td>550</td>\n      <td>0.149500</td>\n      <td>0.144766</td>\n    </tr>\n    <tr>\n      <td>600</td>\n      <td>0.133400</td>\n      <td>0.128769</td>\n    </tr>\n    <tr>\n      <td>650</td>\n      <td>0.112200</td>\n      <td>0.115681</td>\n    </tr>\n    <tr>\n      <td>700</td>\n      <td>0.101100</td>\n      <td>0.104698</td>\n    </tr>\n    <tr>\n      <td>750</td>\n      <td>0.093300</td>\n      <td>0.097882</td>\n    </tr>\n    <tr>\n      <td>800</td>\n      <td>0.086100</td>\n      <td>0.090882</td>\n    </tr>\n    <tr>\n      <td>850</td>\n      <td>0.081300</td>\n      <td>0.086206</td>\n    </tr>\n    <tr>\n      <td>900</td>\n      <td>0.074100</td>\n      <td>0.083584</td>\n    </tr>\n    <tr>\n      <td>950</td>\n      <td>0.077600</td>\n      <td>0.081344</td>\n    </tr>\n  </tbody>\n</table><p>"
     },
     "metadata": {},
     "output_type": "display_data"
    },
    {
     "data": {
      "text/plain": "<IPython.core.display.HTML object>",
      "text/html": "\n    <div>\n      \n      <progress value='976' max='1000' style='width:300px; height:20px; vertical-align: middle;'></progress>\n      [ 976/1000 3:39:46 < 05:24, 0.07 it/s, Epoch 0.78/1]\n    </div>\n    <table border=\"1\" class=\"dataframe\">\n  <thead>\n <tr style=\"text-align: left;\">\n      <th>Step</th>\n      <th>Training Loss</th>\n      <th>Validation Loss</th>\n    </tr>\n  </thead>\n  <tbody>\n    <tr>\n      <td>50</td>\n      <td>0.869400</td>\n      <td>0.773680</td>\n    </tr>\n    <tr>\n      <td>100</td>\n      <td>0.704200</td>\n      <td>0.717387</td>\n    </tr>\n    <tr>\n      <td>150</td>\n      <td>0.694400</td>\n      <td>0.675513</td>\n    </tr>\n    <tr>\n      <td>200</td>\n      <td>0.635200</td>\n      <td>0.590456</td>\n    </tr>\n    <tr>\n      <td>250</td>\n      <td>0.558000</td>\n      <td>0.498922</td>\n    </tr>\n    <tr>\n      <td>300</td>\n      <td>0.463600</td>\n      <td>0.404825</td>\n    </tr>\n    <tr>\n      <td>350</td>\n      <td>0.366500</td>\n      <td>0.323447</td>\n    </tr>\n    <tr>\n      <td>400</td>\n      <td>0.296800</td>\n      <td>0.258233</td>\n    </tr>\n    <tr>\n      <td>450</td>\n      <td>0.240900</td>\n      <td>0.207625</td>\n    </tr>\n    <tr>\n      <td>500</td>\n      <td>0.186500</td>\n      <td>0.171537</td>\n    </tr>\n    <tr>\n      <td>550</td>\n      <td>0.149500</td>\n      <td>0.144766</td>\n    </tr>\n    <tr>\n      <td>600</td>\n      <td>0.133400</td>\n      <td>0.128769</td>\n    </tr>\n    <tr>\n      <td>650</td>\n      <td>0.112200</td>\n      <td>0.115681</td>\n    </tr>\n    <tr>\n      <td>700</td>\n      <td>0.101100</td>\n      <td>0.104698</td>\n    </tr>\n    <tr>\n      <td>750</td>\n      <td>0.093300</td>\n      <td>0.097882</td>\n    </tr>\n    <tr>\n      <td>800</td>\n      <td>0.086100</td>\n      <td>0.090882</td>\n    </tr>\n    <tr>\n      <td>850</td>\n      <td>0.081300</td>\n      <td>0.086206</td>\n    </tr>\n    <tr>\n      <td>900</td>\n      <td>0.074100</td>\n      <td>0.083584</td>\n    </tr>\n    <tr>\n      <td>950</td>\n      <td>0.077600</td>\n      <td>0.081344</td>\n    </tr>\n  </tbody>\n</table><p>"
     },
     "metadata": {},
     "output_type": "display_data"
    },
    {
     "data": {
      "text/plain": "<IPython.core.display.HTML object>",
      "text/html": "\n    <div>\n      \n      <progress value='1001' max='1000' style='width:300px; height:20px; vertical-align: middle;'></progress>\n      [1000/1000 3:44:46, Epoch 0.80/1]\n    </div>\n    <table border=\"1\" class=\"dataframe\">\n  <thead>\n <tr style=\"text-align: left;\">\n      <th>Step</th>\n      <th>Training Loss</th>\n      <th>Validation Loss</th>\n    </tr>\n  </thead>\n  <tbody>\n    <tr>\n      <td>50</td>\n      <td>0.869400</td>\n      <td>0.773680</td>\n    </tr>\n    <tr>\n      <td>100</td>\n      <td>0.704200</td>\n      <td>0.717387</td>\n    </tr>\n    <tr>\n      <td>150</td>\n      <td>0.694400</td>\n      <td>0.675513</td>\n    </tr>\n    <tr>\n      <td>200</td>\n      <td>0.635200</td>\n      <td>0.590456</td>\n    </tr>\n    <tr>\n      <td>250</td>\n      <td>0.558000</td>\n      <td>0.498922</td>\n    </tr>\n    <tr>\n      <td>300</td>\n      <td>0.463600</td>\n      <td>0.404825</td>\n    </tr>\n    <tr>\n      <td>350</td>\n      <td>0.366500</td>\n      <td>0.323447</td>\n    </tr>\n    <tr>\n      <td>400</td>\n      <td>0.296800</td>\n      <td>0.258233</td>\n    </tr>\n    <tr>\n      <td>450</td>\n      <td>0.240900</td>\n      <td>0.207625</td>\n    </tr>\n    <tr>\n      <td>500</td>\n      <td>0.186500</td>\n      <td>0.171537</td>\n    </tr>\n    <tr>\n      <td>550</td>\n      <td>0.149500</td>\n      <td>0.144766</td>\n    </tr>\n    <tr>\n      <td>600</td>\n      <td>0.133400</td>\n      <td>0.128769</td>\n    </tr>\n    <tr>\n      <td>650</td>\n      <td>0.112200</td>\n      <td>0.115681</td>\n    </tr>\n    <tr>\n      <td>700</td>\n      <td>0.101100</td>\n      <td>0.104698</td>\n    </tr>\n    <tr>\n      <td>750</td>\n      <td>0.093300</td>\n      <td>0.097882</td>\n    </tr>\n    <tr>\n      <td>800</td>\n      <td>0.086100</td>\n      <td>0.090882</td>\n    </tr>\n    <tr>\n      <td>850</td>\n      <td>0.081300</td>\n      <td>0.086206</td>\n    </tr>\n    <tr>\n      <td>900</td>\n      <td>0.074100</td>\n      <td>0.083584</td>\n    </tr>\n    <tr>\n      <td>950</td>\n      <td>0.077600</td>\n      <td>0.081344</td>\n    </tr>\n    <tr>\n      <td>1000</td>\n      <td>0.075000</td>\n      <td>0.080395</td>\n    </tr>\n  </tbody>\n</table><p>"
     },
     "metadata": {},
     "output_type": "display_data"
    },
    {
     "data": {
      "text/plain": "<IPython.core.display.HTML object>",
      "text/html": "\n    <div>\n      \n      <progress value='1000' max='1000' style='width:300px; height:20px; vertical-align: middle;'></progress>\n      [1000/1000 3:46:05, Epoch 0/1]\n    </div>\n    <table border=\"1\" class=\"dataframe\">\n  <thead>\n <tr style=\"text-align: left;\">\n      <th>Step</th>\n      <th>Training Loss</th>\n      <th>Validation Loss</th>\n    </tr>\n  </thead>\n  <tbody>\n    <tr>\n      <td>50</td>\n      <td>0.869400</td>\n      <td>0.773680</td>\n    </tr>\n    <tr>\n      <td>100</td>\n      <td>0.704200</td>\n      <td>0.717387</td>\n    </tr>\n    <tr>\n      <td>150</td>\n      <td>0.694400</td>\n      <td>0.675513</td>\n    </tr>\n    <tr>\n      <td>200</td>\n      <td>0.635200</td>\n      <td>0.590456</td>\n    </tr>\n    <tr>\n      <td>250</td>\n      <td>0.558000</td>\n      <td>0.498922</td>\n    </tr>\n    <tr>\n      <td>300</td>\n      <td>0.463600</td>\n      <td>0.404825</td>\n    </tr>\n    <tr>\n      <td>350</td>\n      <td>0.366500</td>\n      <td>0.323447</td>\n    </tr>\n    <tr>\n      <td>400</td>\n      <td>0.296800</td>\n      <td>0.258233</td>\n    </tr>\n    <tr>\n      <td>450</td>\n      <td>0.240900</td>\n      <td>0.207625</td>\n    </tr>\n    <tr>\n      <td>500</td>\n      <td>0.186500</td>\n      <td>0.171537</td>\n    </tr>\n    <tr>\n      <td>550</td>\n      <td>0.149500</td>\n      <td>0.144766</td>\n    </tr>\n    <tr>\n      <td>600</td>\n      <td>0.133400</td>\n      <td>0.128769</td>\n    </tr>\n    <tr>\n      <td>650</td>\n      <td>0.112200</td>\n      <td>0.115681</td>\n    </tr>\n    <tr>\n      <td>700</td>\n      <td>0.101100</td>\n      <td>0.104698</td>\n    </tr>\n    <tr>\n      <td>750</td>\n      <td>0.093300</td>\n      <td>0.097882</td>\n    </tr>\n    <tr>\n      <td>800</td>\n      <td>0.086100</td>\n      <td>0.090882</td>\n    </tr>\n    <tr>\n      <td>850</td>\n      <td>0.081300</td>\n      <td>0.086206</td>\n    </tr>\n    <tr>\n      <td>900</td>\n      <td>0.074100</td>\n      <td>0.083584</td>\n    </tr>\n    <tr>\n      <td>950</td>\n      <td>0.077600</td>\n      <td>0.081344</td>\n    </tr>\n    <tr>\n      <td>1000</td>\n      <td>0.075000</td>\n      <td>0.080395</td>\n    </tr>\n  </tbody>\n</table><p>"
     },
     "metadata": {},
     "output_type": "display_data"
    },
    {
     "data": {
      "text/plain": "TrainOutput(global_step=1000, training_loss=0.29995553159713745, metrics={'train_runtime': 13578.9712, 'train_samples_per_second': 0.589, 'train_steps_per_second': 0.074, 'total_flos': 6.51521641414656e+17, 'train_loss': 0.29995553159713745, 'epoch': 0.8})"
     },
     "execution_count": 42,
     "metadata": {},
     "output_type": "execute_result"
    }
   ],
   "source": [
    "trainer.train()"
   ],
   "metadata": {
    "collapsed": false,
    "ExecuteTime": {
     "end_time": "2024-04-07T07:19:50.453566Z",
     "start_time": "2024-04-07T03:33:31.335772Z"
    }
   },
   "id": "1387dd9be21b18c3",
   "execution_count": 42
  },
  {
   "cell_type": "code",
   "outputs": [
    {
     "name": "stderr",
     "output_type": "stream",
     "text": [
      "C:\\Users\\naych\\miniconda3\\envs\\RuiwangTraining\\Lib\\site-packages\\peft\\utils\\save_and_load.py:139: UserWarning: Setting `save_embedding_layers` to `True` as embedding layers found in `target_modules`.\n",
      "  warnings.warn(\"Setting `save_embedding_layers` to `True` as embedding layers found in `target_modules`.\")\n"
     ]
    },
    {
     "data": {
      "text/plain": "('fine_tuned/tokenizer_config.json',\n 'fine_tuned/special_tokens_map.json',\n 'fine_tuned/tokenizer.model',\n 'fine_tuned/added_tokens.json',\n 'fine_tuned/tokenizer.json')"
     },
     "execution_count": 43,
     "metadata": {},
     "output_type": "execute_result"
    }
   ],
   "source": [
    "fine_tuned_model_dir = \"fine_tuned/\"\n",
    "model.save_pretrained(fine_tuned_model_dir)\n",
    "tokenizer.save_pretrained(fine_tuned_model_dir)"
   ],
   "metadata": {
    "collapsed": false,
    "ExecuteTime": {
     "end_time": "2024-04-07T14:05:07.294641Z",
     "start_time": "2024-04-07T14:05:06.557814Z"
    }
   },
   "id": "817d777a5ea5ae67",
   "execution_count": 43
  },
  {
   "cell_type": "code",
   "outputs": [],
   "source": [],
   "metadata": {
    "collapsed": false
   },
   "id": "60dd7c12b4088f1d"
  }
 ],
 "metadata": {
  "kernelspec": {
   "display_name": "Python 3",
   "language": "python",
   "name": "python3"
  },
  "language_info": {
   "codemirror_mode": {
    "name": "ipython",
    "version": 2
   },
   "file_extension": ".py",
   "mimetype": "text/x-python",
   "name": "python",
   "nbconvert_exporter": "python",
   "pygments_lexer": "ipython2",
   "version": "2.7.6"
  }
 },
 "nbformat": 4,
 "nbformat_minor": 5
}
