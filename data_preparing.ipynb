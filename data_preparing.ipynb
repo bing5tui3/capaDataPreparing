{
 "cells": [
  {
   "cell_type": "code",
   "outputs": [],
   "source": [
    "class Parameter:\n",
    "     # 项目类别\n",
    "    PROJECT_TYPES = ['1', '2', '3', '4', '5', '6']\n",
    "    # 原始机构\n",
    "    ORIGINAL_ORGS = ['1', '2', '3', '4', '5', '6']\n",
    "    # 摊入机构\n",
    "    TARGET_ORGS = ['1', '2', '3', '4', '5', '6']\n",
    "    # 业务标识\n",
    "    BUSINESS_TAGS = ['1', '2', '3', '4', '5', '6']\n",
    "    # 费用科目\n",
    "    FEE_ITEMS = ['1', '2', '3', '4', '5', '6']\n",
    "    # 费用大类\n",
    "    FEE_TYPES = ['1', '2', '3', '4', '5', '6']\n",
    "    # 产品编码\n",
    "    PRODUCT_CODES = ['1', '2', '3', '4', '5', '6']"
   ],
   "metadata": {
    "collapsed": false
   },
   "id": "92164b576dee62e1"
  },
  {
   "cell_type": "code",
   "outputs": [],
   "source": [
    "import random\n",
    "import json\n",
    "\n",
    "class Fee:\n",
    "\n",
    "    # 项目类别\n",
    "    PROJECT_TYPES = Parameter.PROJECT_TYPES\n",
    "    # 原始机构\n",
    "    ORIGINAL_ORGS = Parameter.ORIGINAL_ORGS\n",
    "    # 摊入机构\n",
    "    TARGET_ORGS = Parameter.TARGET_ORGS\n",
    "    # 业务标识\n",
    "    BUSINESS_TAGS = Parameter.BUSINESS_TAGS\n",
    "    # 费用科目\n",
    "    FEE_ITEMS = Parameter.FEE_ITEMS\n",
    "    # 费用大类\n",
    "    FEE_TYPES = Parameter.FEE_TYPES\n",
    "    # 产品编码\n",
    "    PRODUCT_CODES = Parameter.PRODUCT_CODES\n",
    "\n",
    "    \n",
    "    def __init__(self, project_type=None, original_org=None, target_org=None, business_tag=None, fee_item=None,\n",
    "                 fee_type=None, product_code=None, amount=None):\n",
    "        self.project_type = project_type\n",
    "        self.original_org = original_org\n",
    "        self.target_org = target_org\n",
    "        self.business_tag = business_tag\n",
    "        self.fee_item = fee_item\n",
    "        self.fee_type = fee_type\n",
    "        self.product_code = product_code\n",
    "        self.amount = amount\n",
    "    \n",
    "    def random_with_amount(self):\n",
    "        self.project_type = random.choice(Fee.PROJECT_TYPES)\n",
    "        self.original_org = random.choice(Fee.ORIGINAL_ORGS)\n",
    "        self.target_org = random.choice(Fee.TARGET_ORGS)\n",
    "        self.business_tag = random.choice(Fee.BUSINESS_TAGS)\n",
    "        self.fee_item = random.choice(Fee.FEE_ITEMS)\n",
    "        self.fee_type = random.choice(Fee.FEE_TYPES)\n",
    "        self.product_code = random.choice(Fee.PRODUCT_CODES)\n",
    "        self.amount = round(random.uniform(1, 10000), 2)\n",
    "        \n",
    "    def to_json(self):\n",
    "        return json.dumps({\n",
    "            \"project_type\": self.project_type,\n",
    "            \"original_org\": self.original_org,\n",
    "            \"target_org\": self.target_org,\n",
    "            \"business_tag\": self.business_tag,\n",
    "            \"fee_item\": self.fee_item,\n",
    "            \"fee_type\": self.fee_type,\n",
    "            \"product_code\": self.product_code,\n",
    "            \"amount\": self.amount\n",
    "        })"
   ],
   "metadata": {
    "collapsed": false,
    "ExecuteTime": {
     "end_time": "2024-03-27T09:44:40.382265Z",
     "start_time": "2024-03-27T09:44:40.373690Z"
    }
   },
   "id": "7540fddd3b6c5b30",
   "execution_count": 9
  },
  {
   "cell_type": "code",
   "outputs": [],
   "source": [
    "class Driver:\n",
    "    \n",
    "    "
   ],
   "metadata": {
    "collapsed": false
   },
   "id": "c38a7b54991da4bc"
  },
  {
   "cell_type": "code",
   "outputs": [
    {
     "name": "stdout",
     "output_type": "stream",
     "text": [
      "{\"project_type\": \"5\", \"original_org\": \"1\", \"target_org\": \"4\", \"business_tag\": \"6\", \"fee_item\": \"4\", \"fee_type\": \"2\", \"product_code\": \"3\", \"amount\": 3229.91}\n"
     ]
    }
   ],
   "source": [
    "random_init_fee = Fee()\n",
    "random_init_fee.random_with_amount()\n",
    "print(random_init_fee.to_json())"
   ],
   "metadata": {
    "collapsed": false,
    "ExecuteTime": {
     "end_time": "2024-03-27T09:44:41.395213Z",
     "start_time": "2024-03-27T09:44:41.386364Z"
    }
   },
   "id": "34ad3749aa711cca",
   "execution_count": 10
  },
  {
   "cell_type": "code",
   "outputs": [],
   "source": [
    "def allocate_with_driver()"
   ],
   "metadata": {
    "collapsed": false
   },
   "id": "a6ef39d2c9161151"
  }
 ],
 "metadata": {
  "kernelspec": {
   "display_name": "Python 3",
   "language": "python",
   "name": "python3"
  },
  "language_info": {
   "codemirror_mode": {
    "name": "ipython",
    "version": 2
   },
   "file_extension": ".py",
   "mimetype": "text/x-python",
   "name": "python",
   "nbconvert_exporter": "python",
   "pygments_lexer": "ipython2",
   "version": "2.7.6"
  }
 },
 "nbformat": 4,
 "nbformat_minor": 5
}
